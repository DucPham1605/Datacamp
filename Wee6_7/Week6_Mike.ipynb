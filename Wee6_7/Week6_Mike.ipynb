{
 "cells": [
  {
   "metadata": {},
   "cell_type": "markdown",
   "source": [
    "## Week 6: Chọn ít nhất 2 trong 4 bộ dữ liệu sau để xây dựng mô hình classification\n",
    "Yêu cầu:\n",
    "- Nếu bạn chọn bộ car, target là cột mpg (miles per gallon).\n",
    "- Với 3 bộ dữ liệu còn lại, hãy đọc phần hướng dẫn tương ứng. Chú ý với\n",
    "bộ csgo, hãy nghĩ xem có cần thiết phải dùng toàn bộ các feature hay không? Nếu không thì hãy loại bỏ feature bạn thấy không cần thiết. Chú ý là với dataset này thì dự đoán thắng thua quan trọng hơn là dự đoán hòa"
   ],
   "id": "29c19bb340ba524"
  },
  {
   "cell_type": "code",
   "id": "initial_id",
   "metadata": {
    "collapsed": true,
    "ExecuteTime": {
     "end_time": "2024-12-07T02:42:38.646792Z",
     "start_time": "2024-12-07T02:42:38.644293Z"
    }
   },
   "source": [
    "import numpy as np\n",
    "import numpy as np\n",
    "import pandas as pd\n",
    "import matplotlib.pyplot as plt\n",
    "import seaborn as sns\n",
    "from sklearn.compose import ColumnTransformer\n",
    "from sklearn.linear_model import LogisticRegression\n",
    "\n",
    "from sklearn.model_selection import train_test_split, GridSearchCV\n",
    "from sklearn.preprocessing import StandardScaler, OrdinalEncoder, LabelEncoder\n",
    "from sklearn.pipeline import Pipeline\n",
    "from sklearn.metrics import accuracy_score, f1_score, classification_report, confusion_matrix\n",
    "from sklearn.ensemble import RandomForestClassifier\n",
    "from sklearn.impute import SimpleImputer\n",
    "from sklearn.linear_model import LogisticRegression\n",
    "from imblearn.over_sampling import SMOTE\n",
    "from sklearn.svm import SVC\n",
    "\n",
    "from ydata_profiling import ProfileReport"
   ],
   "outputs": [],
   "execution_count": 145
  },
  {
   "metadata": {},
   "cell_type": "markdown",
   "source": "# Diabetes Classification",
   "id": "8eb74ac4d2aa3bda"
  },
  {
   "metadata": {
    "ExecuteTime": {
     "end_time": "2024-12-07T01:46:11.929035Z",
     "start_time": "2024-12-07T01:46:11.925601Z"
    }
   },
   "cell_type": "code",
   "source": "df = pd.read_csv('diabetes_data.csv')",
   "id": "c83c06483e77a970",
   "outputs": [],
   "execution_count": 79
  },
  {
   "metadata": {
    "ExecuteTime": {
     "end_time": "2024-12-07T01:46:11.930966Z",
     "start_time": "2024-12-07T01:46:11.929513Z"
    }
   },
   "cell_type": "code",
   "source": [
    "# profile = ProfileReport(df,title=\"Diabetes Data\", explorative=True)\n",
    "# profile.to_file('diabetes.html')"
   ],
   "id": "4378ccd5b757bcfb",
   "outputs": [],
   "execution_count": 80
  },
  {
   "metadata": {
    "ExecuteTime": {
     "end_time": "2024-12-07T01:46:11.936573Z",
     "start_time": "2024-12-07T01:46:11.932186Z"
    }
   },
   "cell_type": "code",
   "source": [
    "x = df.drop('DiabeticClass', axis=1, inplace=False)\n",
    "y = df['DiabeticClass']\n",
    "\n",
    "x_train, x_test, y_train, y_test = train_test_split(x, y, test_size=0.2, random_state=200)\n",
    "\n",
    "label_encoder = LabelEncoder()\n",
    "y_train = label_encoder.fit_transform(y_train)\n",
    "y_test = label_encoder.transform(y_test)\n",
    "\n",
    "categorical_features = x_train.columns.tolist()\n",
    "categorical_features.remove('Age')\n",
    "\n",
    "other_order = [['No', 'Yes']] * (len(categorical_features) - 1)\n",
    "gender_order = ['Male', 'Female']\n",
    "ord_transformer = OrdinalEncoder(categories=[gender_order] + other_order)\n",
    "\n",
    "preprocessor = ColumnTransformer(transformers=[\n",
    "    ('encoder', ord_transformer, categorical_features),\n",
    "],remainder='passthrough')\n",
    "\n",
    "param = {\n",
    "    \"classifier__n_estimators\": [20, 50, 100, 200],\n",
    "    \"classifier__criterion\": [\"gini\", \"entropy\", \"log_loss\"],\n",
    "    \"classifier__max_depth\": [None, 2, 5, 10]\n",
    "}\n",
    "\n",
    "model = Pipeline(steps=[\n",
    "    ('preprocessor', preprocessor),\n",
    "    ('classifier', RandomForestClassifier(random_state=200))\n",
    "])\n",
    "\n",
    "model_gr = GridSearchCV(estimator=model, param_grid=param,scoring='recall', cv=5, verbose=2)"
   ],
   "id": "238950eb2b357fbc",
   "outputs": [],
   "execution_count": 81
  },
  {
   "metadata": {
    "ExecuteTime": {
     "end_time": "2024-12-07T01:46:23.548765Z",
     "start_time": "2024-12-07T01:46:11.937178Z"
    }
   },
   "cell_type": "code",
   "source": [
    "model_gr.fit(x_train, y_train)\n",
    "print(\"Best parameters: {}\".format(model_gr.best_params_))"
   ],
   "id": "b4fd8f13a8da6595",
   "outputs": [
    {
     "name": "stdout",
     "output_type": "stream",
     "text": [
      "Fitting 5 folds for each of 48 candidates, totalling 240 fits\n",
      "[CV] END classifier__criterion=gini, classifier__max_depth=None, classifier__n_estimators=20; total time=   0.0s\n",
      "[CV] END classifier__criterion=gini, classifier__max_depth=None, classifier__n_estimators=20; total time=   0.0s\n",
      "[CV] END classifier__criterion=gini, classifier__max_depth=None, classifier__n_estimators=20; total time=   0.0s\n",
      "[CV] END classifier__criterion=gini, classifier__max_depth=None, classifier__n_estimators=20; total time=   0.0s\n",
      "[CV] END classifier__criterion=gini, classifier__max_depth=None, classifier__n_estimators=20; total time=   0.0s\n",
      "[CV] END classifier__criterion=gini, classifier__max_depth=None, classifier__n_estimators=50; total time=   0.0s\n",
      "[CV] END classifier__criterion=gini, classifier__max_depth=None, classifier__n_estimators=50; total time=   0.0s\n",
      "[CV] END classifier__criterion=gini, classifier__max_depth=None, classifier__n_estimators=50; total time=   0.0s\n",
      "[CV] END classifier__criterion=gini, classifier__max_depth=None, classifier__n_estimators=50; total time=   0.0s\n",
      "[CV] END classifier__criterion=gini, classifier__max_depth=None, classifier__n_estimators=50; total time=   0.0s\n",
      "[CV] END classifier__criterion=gini, classifier__max_depth=None, classifier__n_estimators=100; total time=   0.1s\n",
      "[CV] END classifier__criterion=gini, classifier__max_depth=None, classifier__n_estimators=100; total time=   0.1s\n",
      "[CV] END classifier__criterion=gini, classifier__max_depth=None, classifier__n_estimators=100; total time=   0.1s\n",
      "[CV] END classifier__criterion=gini, classifier__max_depth=None, classifier__n_estimators=100; total time=   0.1s\n",
      "[CV] END classifier__criterion=gini, classifier__max_depth=None, classifier__n_estimators=100; total time=   0.1s\n",
      "[CV] END classifier__criterion=gini, classifier__max_depth=None, classifier__n_estimators=200; total time=   0.1s\n",
      "[CV] END classifier__criterion=gini, classifier__max_depth=None, classifier__n_estimators=200; total time=   0.1s\n",
      "[CV] END classifier__criterion=gini, classifier__max_depth=None, classifier__n_estimators=200; total time=   0.1s\n",
      "[CV] END classifier__criterion=gini, classifier__max_depth=None, classifier__n_estimators=200; total time=   0.1s\n",
      "[CV] END classifier__criterion=gini, classifier__max_depth=None, classifier__n_estimators=200; total time=   0.1s\n",
      "[CV] END classifier__criterion=gini, classifier__max_depth=2, classifier__n_estimators=20; total time=   0.0s\n",
      "[CV] END classifier__criterion=gini, classifier__max_depth=2, classifier__n_estimators=20; total time=   0.0s\n",
      "[CV] END classifier__criterion=gini, classifier__max_depth=2, classifier__n_estimators=20; total time=   0.0s\n",
      "[CV] END classifier__criterion=gini, classifier__max_depth=2, classifier__n_estimators=20; total time=   0.0s\n",
      "[CV] END classifier__criterion=gini, classifier__max_depth=2, classifier__n_estimators=20; total time=   0.0s\n",
      "[CV] END classifier__criterion=gini, classifier__max_depth=2, classifier__n_estimators=50; total time=   0.0s\n",
      "[CV] END classifier__criterion=gini, classifier__max_depth=2, classifier__n_estimators=50; total time=   0.0s\n",
      "[CV] END classifier__criterion=gini, classifier__max_depth=2, classifier__n_estimators=50; total time=   0.0s\n",
      "[CV] END classifier__criterion=gini, classifier__max_depth=2, classifier__n_estimators=50; total time=   0.0s\n",
      "[CV] END classifier__criterion=gini, classifier__max_depth=2, classifier__n_estimators=50; total time=   0.0s\n",
      "[CV] END classifier__criterion=gini, classifier__max_depth=2, classifier__n_estimators=100; total time=   0.0s\n",
      "[CV] END classifier__criterion=gini, classifier__max_depth=2, classifier__n_estimators=100; total time=   0.0s\n",
      "[CV] END classifier__criterion=gini, classifier__max_depth=2, classifier__n_estimators=100; total time=   0.0s\n",
      "[CV] END classifier__criterion=gini, classifier__max_depth=2, classifier__n_estimators=100; total time=   0.0s\n",
      "[CV] END classifier__criterion=gini, classifier__max_depth=2, classifier__n_estimators=100; total time=   0.0s\n",
      "[CV] END classifier__criterion=gini, classifier__max_depth=2, classifier__n_estimators=200; total time=   0.1s\n",
      "[CV] END classifier__criterion=gini, classifier__max_depth=2, classifier__n_estimators=200; total time=   0.1s\n",
      "[CV] END classifier__criterion=gini, classifier__max_depth=2, classifier__n_estimators=200; total time=   0.1s\n",
      "[CV] END classifier__criterion=gini, classifier__max_depth=2, classifier__n_estimators=200; total time=   0.1s\n",
      "[CV] END classifier__criterion=gini, classifier__max_depth=2, classifier__n_estimators=200; total time=   0.1s\n",
      "[CV] END classifier__criterion=gini, classifier__max_depth=5, classifier__n_estimators=20; total time=   0.0s\n",
      "[CV] END classifier__criterion=gini, classifier__max_depth=5, classifier__n_estimators=20; total time=   0.0s\n",
      "[CV] END classifier__criterion=gini, classifier__max_depth=5, classifier__n_estimators=20; total time=   0.0s\n",
      "[CV] END classifier__criterion=gini, classifier__max_depth=5, classifier__n_estimators=20; total time=   0.0s\n",
      "[CV] END classifier__criterion=gini, classifier__max_depth=5, classifier__n_estimators=20; total time=   0.0s\n",
      "[CV] END classifier__criterion=gini, classifier__max_depth=5, classifier__n_estimators=50; total time=   0.0s\n",
      "[CV] END classifier__criterion=gini, classifier__max_depth=5, classifier__n_estimators=50; total time=   0.0s\n",
      "[CV] END classifier__criterion=gini, classifier__max_depth=5, classifier__n_estimators=50; total time=   0.0s\n",
      "[CV] END classifier__criterion=gini, classifier__max_depth=5, classifier__n_estimators=50; total time=   0.0s\n",
      "[CV] END classifier__criterion=gini, classifier__max_depth=5, classifier__n_estimators=50; total time=   0.0s\n",
      "[CV] END classifier__criterion=gini, classifier__max_depth=5, classifier__n_estimators=100; total time=   0.1s\n",
      "[CV] END classifier__criterion=gini, classifier__max_depth=5, classifier__n_estimators=100; total time=   0.1s\n",
      "[CV] END classifier__criterion=gini, classifier__max_depth=5, classifier__n_estimators=100; total time=   0.1s\n",
      "[CV] END classifier__criterion=gini, classifier__max_depth=5, classifier__n_estimators=100; total time=   0.1s\n",
      "[CV] END classifier__criterion=gini, classifier__max_depth=5, classifier__n_estimators=100; total time=   0.1s\n",
      "[CV] END classifier__criterion=gini, classifier__max_depth=5, classifier__n_estimators=200; total time=   0.1s\n",
      "[CV] END classifier__criterion=gini, classifier__max_depth=5, classifier__n_estimators=200; total time=   0.1s\n",
      "[CV] END classifier__criterion=gini, classifier__max_depth=5, classifier__n_estimators=200; total time=   0.1s\n",
      "[CV] END classifier__criterion=gini, classifier__max_depth=5, classifier__n_estimators=200; total time=   0.1s\n",
      "[CV] END classifier__criterion=gini, classifier__max_depth=5, classifier__n_estimators=200; total time=   0.1s\n",
      "[CV] END classifier__criterion=gini, classifier__max_depth=10, classifier__n_estimators=20; total time=   0.0s\n",
      "[CV] END classifier__criterion=gini, classifier__max_depth=10, classifier__n_estimators=20; total time=   0.0s\n",
      "[CV] END classifier__criterion=gini, classifier__max_depth=10, classifier__n_estimators=20; total time=   0.0s\n",
      "[CV] END classifier__criterion=gini, classifier__max_depth=10, classifier__n_estimators=20; total time=   0.0s\n",
      "[CV] END classifier__criterion=gini, classifier__max_depth=10, classifier__n_estimators=20; total time=   0.0s\n",
      "[CV] END classifier__criterion=gini, classifier__max_depth=10, classifier__n_estimators=50; total time=   0.0s\n",
      "[CV] END classifier__criterion=gini, classifier__max_depth=10, classifier__n_estimators=50; total time=   0.0s\n",
      "[CV] END classifier__criterion=gini, classifier__max_depth=10, classifier__n_estimators=50; total time=   0.0s\n",
      "[CV] END classifier__criterion=gini, classifier__max_depth=10, classifier__n_estimators=50; total time=   0.0s\n",
      "[CV] END classifier__criterion=gini, classifier__max_depth=10, classifier__n_estimators=50; total time=   0.0s\n",
      "[CV] END classifier__criterion=gini, classifier__max_depth=10, classifier__n_estimators=100; total time=   0.1s\n",
      "[CV] END classifier__criterion=gini, classifier__max_depth=10, classifier__n_estimators=100; total time=   0.1s\n",
      "[CV] END classifier__criterion=gini, classifier__max_depth=10, classifier__n_estimators=100; total time=   0.0s\n",
      "[CV] END classifier__criterion=gini, classifier__max_depth=10, classifier__n_estimators=100; total time=   0.1s\n",
      "[CV] END classifier__criterion=gini, classifier__max_depth=10, classifier__n_estimators=100; total time=   0.1s\n",
      "[CV] END classifier__criterion=gini, classifier__max_depth=10, classifier__n_estimators=200; total time=   0.1s\n",
      "[CV] END classifier__criterion=gini, classifier__max_depth=10, classifier__n_estimators=200; total time=   0.1s\n",
      "[CV] END classifier__criterion=gini, classifier__max_depth=10, classifier__n_estimators=200; total time=   0.1s\n",
      "[CV] END classifier__criterion=gini, classifier__max_depth=10, classifier__n_estimators=200; total time=   0.1s\n",
      "[CV] END classifier__criterion=gini, classifier__max_depth=10, classifier__n_estimators=200; total time=   0.1s\n",
      "[CV] END classifier__criterion=entropy, classifier__max_depth=None, classifier__n_estimators=20; total time=   0.0s\n",
      "[CV] END classifier__criterion=entropy, classifier__max_depth=None, classifier__n_estimators=20; total time=   0.0s\n",
      "[CV] END classifier__criterion=entropy, classifier__max_depth=None, classifier__n_estimators=20; total time=   0.0s\n",
      "[CV] END classifier__criterion=entropy, classifier__max_depth=None, classifier__n_estimators=20; total time=   0.0s\n",
      "[CV] END classifier__criterion=entropy, classifier__max_depth=None, classifier__n_estimators=20; total time=   0.0s\n",
      "[CV] END classifier__criterion=entropy, classifier__max_depth=None, classifier__n_estimators=50; total time=   0.0s\n",
      "[CV] END classifier__criterion=entropy, classifier__max_depth=None, classifier__n_estimators=50; total time=   0.0s\n",
      "[CV] END classifier__criterion=entropy, classifier__max_depth=None, classifier__n_estimators=50; total time=   0.0s\n",
      "[CV] END classifier__criterion=entropy, classifier__max_depth=None, classifier__n_estimators=50; total time=   0.0s\n",
      "[CV] END classifier__criterion=entropy, classifier__max_depth=None, classifier__n_estimators=50; total time=   0.0s\n",
      "[CV] END classifier__criterion=entropy, classifier__max_depth=None, classifier__n_estimators=100; total time=   0.1s\n",
      "[CV] END classifier__criterion=entropy, classifier__max_depth=None, classifier__n_estimators=100; total time=   0.0s\n",
      "[CV] END classifier__criterion=entropy, classifier__max_depth=None, classifier__n_estimators=100; total time=   0.1s\n",
      "[CV] END classifier__criterion=entropy, classifier__max_depth=None, classifier__n_estimators=100; total time=   0.1s\n",
      "[CV] END classifier__criterion=entropy, classifier__max_depth=None, classifier__n_estimators=100; total time=   0.1s\n",
      "[CV] END classifier__criterion=entropy, classifier__max_depth=None, classifier__n_estimators=200; total time=   0.1s\n",
      "[CV] END classifier__criterion=entropy, classifier__max_depth=None, classifier__n_estimators=200; total time=   0.1s\n",
      "[CV] END classifier__criterion=entropy, classifier__max_depth=None, classifier__n_estimators=200; total time=   0.1s\n",
      "[CV] END classifier__criterion=entropy, classifier__max_depth=None, classifier__n_estimators=200; total time=   0.1s\n",
      "[CV] END classifier__criterion=entropy, classifier__max_depth=None, classifier__n_estimators=200; total time=   0.1s\n",
      "[CV] END classifier__criterion=entropy, classifier__max_depth=2, classifier__n_estimators=20; total time=   0.0s\n",
      "[CV] END classifier__criterion=entropy, classifier__max_depth=2, classifier__n_estimators=20; total time=   0.0s\n",
      "[CV] END classifier__criterion=entropy, classifier__max_depth=2, classifier__n_estimators=20; total time=   0.0s\n",
      "[CV] END classifier__criterion=entropy, classifier__max_depth=2, classifier__n_estimators=20; total time=   0.0s\n",
      "[CV] END classifier__criterion=entropy, classifier__max_depth=2, classifier__n_estimators=20; total time=   0.0s\n",
      "[CV] END classifier__criterion=entropy, classifier__max_depth=2, classifier__n_estimators=50; total time=   0.0s\n",
      "[CV] END classifier__criterion=entropy, classifier__max_depth=2, classifier__n_estimators=50; total time=   0.0s\n",
      "[CV] END classifier__criterion=entropy, classifier__max_depth=2, classifier__n_estimators=50; total time=   0.0s\n",
      "[CV] END classifier__criterion=entropy, classifier__max_depth=2, classifier__n_estimators=50; total time=   0.0s\n",
      "[CV] END classifier__criterion=entropy, classifier__max_depth=2, classifier__n_estimators=50; total time=   0.0s\n",
      "[CV] END classifier__criterion=entropy, classifier__max_depth=2, classifier__n_estimators=100; total time=   0.0s\n",
      "[CV] END classifier__criterion=entropy, classifier__max_depth=2, classifier__n_estimators=100; total time=   0.0s\n",
      "[CV] END classifier__criterion=entropy, classifier__max_depth=2, classifier__n_estimators=100; total time=   0.0s\n",
      "[CV] END classifier__criterion=entropy, classifier__max_depth=2, classifier__n_estimators=100; total time=   0.0s\n",
      "[CV] END classifier__criterion=entropy, classifier__max_depth=2, classifier__n_estimators=100; total time=   0.0s\n",
      "[CV] END classifier__criterion=entropy, classifier__max_depth=2, classifier__n_estimators=200; total time=   0.1s\n",
      "[CV] END classifier__criterion=entropy, classifier__max_depth=2, classifier__n_estimators=200; total time=   0.1s\n",
      "[CV] END classifier__criterion=entropy, classifier__max_depth=2, classifier__n_estimators=200; total time=   0.1s\n",
      "[CV] END classifier__criterion=entropy, classifier__max_depth=2, classifier__n_estimators=200; total time=   0.1s\n",
      "[CV] END classifier__criterion=entropy, classifier__max_depth=2, classifier__n_estimators=200; total time=   0.1s\n",
      "[CV] END classifier__criterion=entropy, classifier__max_depth=5, classifier__n_estimators=20; total time=   0.0s\n",
      "[CV] END classifier__criterion=entropy, classifier__max_depth=5, classifier__n_estimators=20; total time=   0.0s\n",
      "[CV] END classifier__criterion=entropy, classifier__max_depth=5, classifier__n_estimators=20; total time=   0.0s\n",
      "[CV] END classifier__criterion=entropy, classifier__max_depth=5, classifier__n_estimators=20; total time=   0.0s\n",
      "[CV] END classifier__criterion=entropy, classifier__max_depth=5, classifier__n_estimators=20; total time=   0.0s\n",
      "[CV] END classifier__criterion=entropy, classifier__max_depth=5, classifier__n_estimators=50; total time=   0.0s\n",
      "[CV] END classifier__criterion=entropy, classifier__max_depth=5, classifier__n_estimators=50; total time=   0.0s\n",
      "[CV] END classifier__criterion=entropy, classifier__max_depth=5, classifier__n_estimators=50; total time=   0.0s\n",
      "[CV] END classifier__criterion=entropy, classifier__max_depth=5, classifier__n_estimators=50; total time=   0.0s\n",
      "[CV] END classifier__criterion=entropy, classifier__max_depth=5, classifier__n_estimators=50; total time=   0.0s\n",
      "[CV] END classifier__criterion=entropy, classifier__max_depth=5, classifier__n_estimators=100; total time=   0.0s\n",
      "[CV] END classifier__criterion=entropy, classifier__max_depth=5, classifier__n_estimators=100; total time=   0.0s\n",
      "[CV] END classifier__criterion=entropy, classifier__max_depth=5, classifier__n_estimators=100; total time=   0.1s\n",
      "[CV] END classifier__criterion=entropy, classifier__max_depth=5, classifier__n_estimators=100; total time=   0.1s\n",
      "[CV] END classifier__criterion=entropy, classifier__max_depth=5, classifier__n_estimators=100; total time=   0.0s\n",
      "[CV] END classifier__criterion=entropy, classifier__max_depth=5, classifier__n_estimators=200; total time=   0.1s\n",
      "[CV] END classifier__criterion=entropy, classifier__max_depth=5, classifier__n_estimators=200; total time=   0.1s\n",
      "[CV] END classifier__criterion=entropy, classifier__max_depth=5, classifier__n_estimators=200; total time=   0.1s\n",
      "[CV] END classifier__criterion=entropy, classifier__max_depth=5, classifier__n_estimators=200; total time=   0.1s\n",
      "[CV] END classifier__criterion=entropy, classifier__max_depth=5, classifier__n_estimators=200; total time=   0.1s\n",
      "[CV] END classifier__criterion=entropy, classifier__max_depth=10, classifier__n_estimators=20; total time=   0.0s\n",
      "[CV] END classifier__criterion=entropy, classifier__max_depth=10, classifier__n_estimators=20; total time=   0.0s\n",
      "[CV] END classifier__criterion=entropy, classifier__max_depth=10, classifier__n_estimators=20; total time=   0.0s\n",
      "[CV] END classifier__criterion=entropy, classifier__max_depth=10, classifier__n_estimators=20; total time=   0.0s\n",
      "[CV] END classifier__criterion=entropy, classifier__max_depth=10, classifier__n_estimators=20; total time=   0.0s\n",
      "[CV] END classifier__criterion=entropy, classifier__max_depth=10, classifier__n_estimators=50; total time=   0.0s\n",
      "[CV] END classifier__criterion=entropy, classifier__max_depth=10, classifier__n_estimators=50; total time=   0.0s\n",
      "[CV] END classifier__criterion=entropy, classifier__max_depth=10, classifier__n_estimators=50; total time=   0.0s\n",
      "[CV] END classifier__criterion=entropy, classifier__max_depth=10, classifier__n_estimators=50; total time=   0.0s\n",
      "[CV] END classifier__criterion=entropy, classifier__max_depth=10, classifier__n_estimators=50; total time=   0.0s\n",
      "[CV] END classifier__criterion=entropy, classifier__max_depth=10, classifier__n_estimators=100; total time=   0.1s\n",
      "[CV] END classifier__criterion=entropy, classifier__max_depth=10, classifier__n_estimators=100; total time=   0.1s\n",
      "[CV] END classifier__criterion=entropy, classifier__max_depth=10, classifier__n_estimators=100; total time=   0.1s\n",
      "[CV] END classifier__criterion=entropy, classifier__max_depth=10, classifier__n_estimators=100; total time=   0.1s\n",
      "[CV] END classifier__criterion=entropy, classifier__max_depth=10, classifier__n_estimators=100; total time=   0.1s\n",
      "[CV] END classifier__criterion=entropy, classifier__max_depth=10, classifier__n_estimators=200; total time=   0.1s\n",
      "[CV] END classifier__criterion=entropy, classifier__max_depth=10, classifier__n_estimators=200; total time=   0.1s\n",
      "[CV] END classifier__criterion=entropy, classifier__max_depth=10, classifier__n_estimators=200; total time=   0.1s\n",
      "[CV] END classifier__criterion=entropy, classifier__max_depth=10, classifier__n_estimators=200; total time=   0.1s\n",
      "[CV] END classifier__criterion=entropy, classifier__max_depth=10, classifier__n_estimators=200; total time=   0.1s\n",
      "[CV] END classifier__criterion=log_loss, classifier__max_depth=None, classifier__n_estimators=20; total time=   0.0s\n",
      "[CV] END classifier__criterion=log_loss, classifier__max_depth=None, classifier__n_estimators=20; total time=   0.0s\n",
      "[CV] END classifier__criterion=log_loss, classifier__max_depth=None, classifier__n_estimators=20; total time=   0.0s\n",
      "[CV] END classifier__criterion=log_loss, classifier__max_depth=None, classifier__n_estimators=20; total time=   0.0s\n",
      "[CV] END classifier__criterion=log_loss, classifier__max_depth=None, classifier__n_estimators=20; total time=   0.0s\n",
      "[CV] END classifier__criterion=log_loss, classifier__max_depth=None, classifier__n_estimators=50; total time=   0.0s\n",
      "[CV] END classifier__criterion=log_loss, classifier__max_depth=None, classifier__n_estimators=50; total time=   0.0s\n",
      "[CV] END classifier__criterion=log_loss, classifier__max_depth=None, classifier__n_estimators=50; total time=   0.0s\n",
      "[CV] END classifier__criterion=log_loss, classifier__max_depth=None, classifier__n_estimators=50; total time=   0.0s\n",
      "[CV] END classifier__criterion=log_loss, classifier__max_depth=None, classifier__n_estimators=50; total time=   0.0s\n",
      "[CV] END classifier__criterion=log_loss, classifier__max_depth=None, classifier__n_estimators=100; total time=   0.1s\n",
      "[CV] END classifier__criterion=log_loss, classifier__max_depth=None, classifier__n_estimators=100; total time=   0.1s\n",
      "[CV] END classifier__criterion=log_loss, classifier__max_depth=None, classifier__n_estimators=100; total time=   0.1s\n",
      "[CV] END classifier__criterion=log_loss, classifier__max_depth=None, classifier__n_estimators=100; total time=   0.1s\n",
      "[CV] END classifier__criterion=log_loss, classifier__max_depth=None, classifier__n_estimators=100; total time=   0.1s\n",
      "[CV] END classifier__criterion=log_loss, classifier__max_depth=None, classifier__n_estimators=200; total time=   0.1s\n",
      "[CV] END classifier__criterion=log_loss, classifier__max_depth=None, classifier__n_estimators=200; total time=   0.1s\n",
      "[CV] END classifier__criterion=log_loss, classifier__max_depth=None, classifier__n_estimators=200; total time=   0.1s\n",
      "[CV] END classifier__criterion=log_loss, classifier__max_depth=None, classifier__n_estimators=200; total time=   0.1s\n",
      "[CV] END classifier__criterion=log_loss, classifier__max_depth=None, classifier__n_estimators=200; total time=   0.1s\n",
      "[CV] END classifier__criterion=log_loss, classifier__max_depth=2, classifier__n_estimators=20; total time=   0.0s\n",
      "[CV] END classifier__criterion=log_loss, classifier__max_depth=2, classifier__n_estimators=20; total time=   0.0s\n",
      "[CV] END classifier__criterion=log_loss, classifier__max_depth=2, classifier__n_estimators=20; total time=   0.0s\n",
      "[CV] END classifier__criterion=log_loss, classifier__max_depth=2, classifier__n_estimators=20; total time=   0.0s\n",
      "[CV] END classifier__criterion=log_loss, classifier__max_depth=2, classifier__n_estimators=20; total time=   0.0s\n",
      "[CV] END classifier__criterion=log_loss, classifier__max_depth=2, classifier__n_estimators=50; total time=   0.0s\n",
      "[CV] END classifier__criterion=log_loss, classifier__max_depth=2, classifier__n_estimators=50; total time=   0.0s\n",
      "[CV] END classifier__criterion=log_loss, classifier__max_depth=2, classifier__n_estimators=50; total time=   0.0s\n",
      "[CV] END classifier__criterion=log_loss, classifier__max_depth=2, classifier__n_estimators=50; total time=   0.0s\n",
      "[CV] END classifier__criterion=log_loss, classifier__max_depth=2, classifier__n_estimators=50; total time=   0.0s\n",
      "[CV] END classifier__criterion=log_loss, classifier__max_depth=2, classifier__n_estimators=100; total time=   0.0s\n",
      "[CV] END classifier__criterion=log_loss, classifier__max_depth=2, classifier__n_estimators=100; total time=   0.0s\n",
      "[CV] END classifier__criterion=log_loss, classifier__max_depth=2, classifier__n_estimators=100; total time=   0.0s\n",
      "[CV] END classifier__criterion=log_loss, classifier__max_depth=2, classifier__n_estimators=100; total time=   0.0s\n",
      "[CV] END classifier__criterion=log_loss, classifier__max_depth=2, classifier__n_estimators=100; total time=   0.0s\n",
      "[CV] END classifier__criterion=log_loss, classifier__max_depth=2, classifier__n_estimators=200; total time=   0.1s\n",
      "[CV] END classifier__criterion=log_loss, classifier__max_depth=2, classifier__n_estimators=200; total time=   0.1s\n",
      "[CV] END classifier__criterion=log_loss, classifier__max_depth=2, classifier__n_estimators=200; total time=   0.1s\n",
      "[CV] END classifier__criterion=log_loss, classifier__max_depth=2, classifier__n_estimators=200; total time=   0.1s\n",
      "[CV] END classifier__criterion=log_loss, classifier__max_depth=2, classifier__n_estimators=200; total time=   0.1s\n",
      "[CV] END classifier__criterion=log_loss, classifier__max_depth=5, classifier__n_estimators=20; total time=   0.0s\n",
      "[CV] END classifier__criterion=log_loss, classifier__max_depth=5, classifier__n_estimators=20; total time=   0.0s\n",
      "[CV] END classifier__criterion=log_loss, classifier__max_depth=5, classifier__n_estimators=20; total time=   0.0s\n",
      "[CV] END classifier__criterion=log_loss, classifier__max_depth=5, classifier__n_estimators=20; total time=   0.0s\n",
      "[CV] END classifier__criterion=log_loss, classifier__max_depth=5, classifier__n_estimators=20; total time=   0.0s\n",
      "[CV] END classifier__criterion=log_loss, classifier__max_depth=5, classifier__n_estimators=50; total time=   0.0s\n",
      "[CV] END classifier__criterion=log_loss, classifier__max_depth=5, classifier__n_estimators=50; total time=   0.0s\n",
      "[CV] END classifier__criterion=log_loss, classifier__max_depth=5, classifier__n_estimators=50; total time=   0.0s\n",
      "[CV] END classifier__criterion=log_loss, classifier__max_depth=5, classifier__n_estimators=50; total time=   0.0s\n",
      "[CV] END classifier__criterion=log_loss, classifier__max_depth=5, classifier__n_estimators=50; total time=   0.0s\n",
      "[CV] END classifier__criterion=log_loss, classifier__max_depth=5, classifier__n_estimators=100; total time=   0.1s\n",
      "[CV] END classifier__criterion=log_loss, classifier__max_depth=5, classifier__n_estimators=100; total time=   0.0s\n",
      "[CV] END classifier__criterion=log_loss, classifier__max_depth=5, classifier__n_estimators=100; total time=   0.0s\n",
      "[CV] END classifier__criterion=log_loss, classifier__max_depth=5, classifier__n_estimators=100; total time=   0.1s\n",
      "[CV] END classifier__criterion=log_loss, classifier__max_depth=5, classifier__n_estimators=100; total time=   0.0s\n",
      "[CV] END classifier__criterion=log_loss, classifier__max_depth=5, classifier__n_estimators=200; total time=   0.1s\n",
      "[CV] END classifier__criterion=log_loss, classifier__max_depth=5, classifier__n_estimators=200; total time=   0.1s\n",
      "[CV] END classifier__criterion=log_loss, classifier__max_depth=5, classifier__n_estimators=200; total time=   0.1s\n",
      "[CV] END classifier__criterion=log_loss, classifier__max_depth=5, classifier__n_estimators=200; total time=   0.1s\n",
      "[CV] END classifier__criterion=log_loss, classifier__max_depth=5, classifier__n_estimators=200; total time=   0.1s\n",
      "[CV] END classifier__criterion=log_loss, classifier__max_depth=10, classifier__n_estimators=20; total time=   0.0s\n",
      "[CV] END classifier__criterion=log_loss, classifier__max_depth=10, classifier__n_estimators=20; total time=   0.0s\n",
      "[CV] END classifier__criterion=log_loss, classifier__max_depth=10, classifier__n_estimators=20; total time=   0.0s\n",
      "[CV] END classifier__criterion=log_loss, classifier__max_depth=10, classifier__n_estimators=20; total time=   0.0s\n",
      "[CV] END classifier__criterion=log_loss, classifier__max_depth=10, classifier__n_estimators=20; total time=   0.0s\n",
      "[CV] END classifier__criterion=log_loss, classifier__max_depth=10, classifier__n_estimators=50; total time=   0.0s\n",
      "[CV] END classifier__criterion=log_loss, classifier__max_depth=10, classifier__n_estimators=50; total time=   0.0s\n",
      "[CV] END classifier__criterion=log_loss, classifier__max_depth=10, classifier__n_estimators=50; total time=   0.0s\n",
      "[CV] END classifier__criterion=log_loss, classifier__max_depth=10, classifier__n_estimators=50; total time=   0.0s\n",
      "[CV] END classifier__criterion=log_loss, classifier__max_depth=10, classifier__n_estimators=50; total time=   0.0s\n",
      "[CV] END classifier__criterion=log_loss, classifier__max_depth=10, classifier__n_estimators=100; total time=   0.1s\n",
      "[CV] END classifier__criterion=log_loss, classifier__max_depth=10, classifier__n_estimators=100; total time=   0.1s\n",
      "[CV] END classifier__criterion=log_loss, classifier__max_depth=10, classifier__n_estimators=100; total time=   0.1s\n",
      "[CV] END classifier__criterion=log_loss, classifier__max_depth=10, classifier__n_estimators=100; total time=   0.1s\n",
      "[CV] END classifier__criterion=log_loss, classifier__max_depth=10, classifier__n_estimators=100; total time=   0.1s\n",
      "[CV] END classifier__criterion=log_loss, classifier__max_depth=10, classifier__n_estimators=200; total time=   0.1s\n",
      "[CV] END classifier__criterion=log_loss, classifier__max_depth=10, classifier__n_estimators=200; total time=   0.1s\n",
      "[CV] END classifier__criterion=log_loss, classifier__max_depth=10, classifier__n_estimators=200; total time=   0.1s\n",
      "[CV] END classifier__criterion=log_loss, classifier__max_depth=10, classifier__n_estimators=200; total time=   0.1s\n",
      "[CV] END classifier__criterion=log_loss, classifier__max_depth=10, classifier__n_estimators=200; total time=   0.1s\n",
      "Best parameters: {'classifier__criterion': 'gini', 'classifier__max_depth': None, 'classifier__n_estimators': 100}\n"
     ]
    }
   ],
   "execution_count": 82
  },
  {
   "metadata": {
    "ExecuteTime": {
     "end_time": "2024-12-07T01:46:23.557714Z",
     "start_time": "2024-12-07T01:46:23.549529Z"
    }
   },
   "cell_type": "code",
   "source": [
    "y_pred = model_gr.predict(x_test)\n",
    "print(classification_report(y_test, y_pred))"
   ],
   "id": "e085dee1bb53f70a",
   "outputs": [
    {
     "name": "stdout",
     "output_type": "stream",
     "text": [
      "              precision    recall  f1-score   support\n",
      "\n",
      "           0       0.97      0.95      0.96        41\n",
      "           1       0.97      0.98      0.98        63\n",
      "\n",
      "    accuracy                           0.97       104\n",
      "   macro avg       0.97      0.97      0.97       104\n",
      "weighted avg       0.97      0.97      0.97       104\n",
      "\n"
     ]
    }
   ],
   "execution_count": 83
  },
  {
   "metadata": {},
   "cell_type": "markdown",
   "source": "# Stroke Classification",
   "id": "cb8ef5f14bd82716"
  },
  {
   "metadata": {
    "ExecuteTime": {
     "end_time": "2024-12-07T01:46:23.565655Z",
     "start_time": "2024-12-07T01:46:23.558338Z"
    }
   },
   "cell_type": "code",
   "source": [
    "df = pd.read_csv('stroke_classification.csv')\n",
    "df.head()"
   ],
   "id": "a9049d6ea91058ec",
   "outputs": [
    {
     "data": {
      "text/plain": [
       "   pat_id  stroke  gender   age  hypertension  heart_disease  \\\n",
       "0       1       1    Male  67.0             0              1   \n",
       "1       2       1  Female  61.0             0              0   \n",
       "2       3       1    Male  80.0             0              1   \n",
       "3       4       1  Female  49.0             0              0   \n",
       "4       5       1  Female  79.0             1              0   \n",
       "\n",
       "   work_related_stress  urban_residence  avg_glucose_level   bmi  smokes  \n",
       "0                    0                1             228.69  36.6       1  \n",
       "1                    1                0             202.21   NaN       0  \n",
       "2                    0                0             105.92  32.5       0  \n",
       "3                    0                1             171.23  34.4       1  \n",
       "4                    1                0             174.12  24.0       0  "
      ],
      "text/html": [
       "<div>\n",
       "<style scoped>\n",
       "    .dataframe tbody tr th:only-of-type {\n",
       "        vertical-align: middle;\n",
       "    }\n",
       "\n",
       "    .dataframe tbody tr th {\n",
       "        vertical-align: top;\n",
       "    }\n",
       "\n",
       "    .dataframe thead th {\n",
       "        text-align: right;\n",
       "    }\n",
       "</style>\n",
       "<table border=\"1\" class=\"dataframe\">\n",
       "  <thead>\n",
       "    <tr style=\"text-align: right;\">\n",
       "      <th></th>\n",
       "      <th>pat_id</th>\n",
       "      <th>stroke</th>\n",
       "      <th>gender</th>\n",
       "      <th>age</th>\n",
       "      <th>hypertension</th>\n",
       "      <th>heart_disease</th>\n",
       "      <th>work_related_stress</th>\n",
       "      <th>urban_residence</th>\n",
       "      <th>avg_glucose_level</th>\n",
       "      <th>bmi</th>\n",
       "      <th>smokes</th>\n",
       "    </tr>\n",
       "  </thead>\n",
       "  <tbody>\n",
       "    <tr>\n",
       "      <th>0</th>\n",
       "      <td>1</td>\n",
       "      <td>1</td>\n",
       "      <td>Male</td>\n",
       "      <td>67.0</td>\n",
       "      <td>0</td>\n",
       "      <td>1</td>\n",
       "      <td>0</td>\n",
       "      <td>1</td>\n",
       "      <td>228.69</td>\n",
       "      <td>36.6</td>\n",
       "      <td>1</td>\n",
       "    </tr>\n",
       "    <tr>\n",
       "      <th>1</th>\n",
       "      <td>2</td>\n",
       "      <td>1</td>\n",
       "      <td>Female</td>\n",
       "      <td>61.0</td>\n",
       "      <td>0</td>\n",
       "      <td>0</td>\n",
       "      <td>1</td>\n",
       "      <td>0</td>\n",
       "      <td>202.21</td>\n",
       "      <td>NaN</td>\n",
       "      <td>0</td>\n",
       "    </tr>\n",
       "    <tr>\n",
       "      <th>2</th>\n",
       "      <td>3</td>\n",
       "      <td>1</td>\n",
       "      <td>Male</td>\n",
       "      <td>80.0</td>\n",
       "      <td>0</td>\n",
       "      <td>1</td>\n",
       "      <td>0</td>\n",
       "      <td>0</td>\n",
       "      <td>105.92</td>\n",
       "      <td>32.5</td>\n",
       "      <td>0</td>\n",
       "    </tr>\n",
       "    <tr>\n",
       "      <th>3</th>\n",
       "      <td>4</td>\n",
       "      <td>1</td>\n",
       "      <td>Female</td>\n",
       "      <td>49.0</td>\n",
       "      <td>0</td>\n",
       "      <td>0</td>\n",
       "      <td>0</td>\n",
       "      <td>1</td>\n",
       "      <td>171.23</td>\n",
       "      <td>34.4</td>\n",
       "      <td>1</td>\n",
       "    </tr>\n",
       "    <tr>\n",
       "      <th>4</th>\n",
       "      <td>5</td>\n",
       "      <td>1</td>\n",
       "      <td>Female</td>\n",
       "      <td>79.0</td>\n",
       "      <td>1</td>\n",
       "      <td>0</td>\n",
       "      <td>1</td>\n",
       "      <td>0</td>\n",
       "      <td>174.12</td>\n",
       "      <td>24.0</td>\n",
       "      <td>0</td>\n",
       "    </tr>\n",
       "  </tbody>\n",
       "</table>\n",
       "</div>"
      ]
     },
     "execution_count": 84,
     "metadata": {},
     "output_type": "execute_result"
    }
   ],
   "execution_count": 84
  },
  {
   "metadata": {
    "ExecuteTime": {
     "end_time": "2024-12-07T01:46:23.567747Z",
     "start_time": "2024-12-07T01:46:23.566388Z"
    }
   },
   "cell_type": "code",
   "source": [
    "# profile_report = ProfileReport(df, title=\"Stoke Report\", explorative=True)\n",
    "# profile_report.to_file(\"stroke.html\")"
   ],
   "id": "aaa8c13c871fc47e",
   "outputs": [],
   "execution_count": 85
  },
  {
   "metadata": {},
   "cell_type": "markdown",
   "source": [
    "### Preprocessing:\n",
    "- Bỏ 1 observation có gender = 1 \n",
    "- Thay thế giá trị bị khuyết tại cột bmi\n",
    "\n",
    "- Balance target class 'Stroke' bằng cách Oversampling"
   ],
   "id": "fe3cb60adf1b10e3"
  },
  {
   "metadata": {
    "ExecuteTime": {
     "end_time": "2024-12-07T02:16:39.680900Z",
     "start_time": "2024-12-07T02:16:39.678393Z"
    }
   },
   "cell_type": "code",
   "source": "df = df[df['gender'] != 'Other']",
   "id": "4759d4b04a9063cb",
   "outputs": [],
   "execution_count": 119
  },
  {
   "metadata": {
    "ExecuteTime": {
     "end_time": "2024-12-07T02:21:57.098380Z",
     "start_time": "2024-12-07T02:21:57.092187Z"
    }
   },
   "cell_type": "code",
   "source": [
    "x = df.drop(['stroke','pat_id'],axis=1,inplace=False)\n",
    "y = df['stroke']\n",
    "\n",
    "x_train, x_test, y_train, y_test = train_test_split(x, y, test_size=0.2, random_state=200)\n",
    "\n",
    "num_transformer = Pipeline(steps=[\n",
    "    ('imputer',SimpleImputer(strategy='median')),\n",
    "    (\"scaler\",StandardScaler())\n",
    "])\n",
    "\n",
    "gender_order =['Male', 'Female']\n",
    "ord_transformer = OrdinalEncoder(categories=[gender_order])\n",
    "\n",
    "preprocessor = ColumnTransformer(transformers=[\n",
    "    ('imputer', num_transformer, ['bmi','age','avg_glucose_level']),\n",
    "    ('encoder', ord_transformer, ['gender'])\n",
    "],remainder='passthrough')\n",
    "\n",
    "param = {\n",
    "    \"n_estimators\": [20, 50, 100],\n",
    "    \"criterion\": [\"gini\", \"entropy\"],\n",
    "    \"max_depth\": [None]\n",
    "}\n",
    "\n",
    "model_gr = GridSearchCV(estimator=RandomForestClassifier(random_state=200), param_grid=param,scoring='recall', cv=5, verbose=2)"
   ],
   "id": "830718bea6a347dd",
   "outputs": [],
   "execution_count": 127
  },
  {
   "metadata": {
    "ExecuteTime": {
     "end_time": "2024-12-07T02:21:57.322553Z",
     "start_time": "2024-12-07T02:21:57.311093Z"
    }
   },
   "cell_type": "code",
   "source": [
    "x_train = preprocessor.fit_transform(x_train)\n",
    "\n",
    "smote = SMOTE(random_state=200)\n",
    "x_train_balanced,y_train_balanced = smote.fit_resample(x_train,y_train)\n",
    "\n",
    "print(y_train.value_counts())\n",
    "print(y_train_balanced.value_counts())"
   ],
   "id": "f2d5d6afbb964afb",
   "outputs": [
    {
     "name": "stdout",
     "output_type": "stream",
     "text": [
      "stroke\n",
      "0    3885\n",
      "1     202\n",
      "Name: count, dtype: int64\n",
      "stroke\n",
      "0    3885\n",
      "1    3885\n",
      "Name: count, dtype: int64\n"
     ]
    }
   ],
   "execution_count": 128
  },
  {
   "metadata": {
    "ExecuteTime": {
     "end_time": "2024-12-07T02:22:23.905302Z",
     "start_time": "2024-12-07T02:22:14.623702Z"
    }
   },
   "cell_type": "code",
   "source": [
    "model_gr.fit(x_train_balanced,y_train_balanced)\n",
    "print(\"Best parameters: {}\".format(model_gr.best_params_))"
   ],
   "id": "1973790c72af8c47",
   "outputs": [
    {
     "name": "stdout",
     "output_type": "stream",
     "text": [
      "Fitting 5 folds for each of 6 candidates, totalling 30 fits\n",
      "[CV] END ....criterion=gini, max_depth=None, n_estimators=20; total time=   0.1s\n",
      "[CV] END ....criterion=gini, max_depth=None, n_estimators=20; total time=   0.1s\n",
      "[CV] END ....criterion=gini, max_depth=None, n_estimators=20; total time=   0.1s\n",
      "[CV] END ....criterion=gini, max_depth=None, n_estimators=20; total time=   0.1s\n",
      "[CV] END ....criterion=gini, max_depth=None, n_estimators=20; total time=   0.1s\n",
      "[CV] END ....criterion=gini, max_depth=None, n_estimators=50; total time=   0.2s\n",
      "[CV] END ....criterion=gini, max_depth=None, n_estimators=50; total time=   0.2s\n",
      "[CV] END ....criterion=gini, max_depth=None, n_estimators=50; total time=   0.2s\n",
      "[CV] END ....criterion=gini, max_depth=None, n_estimators=50; total time=   0.2s\n",
      "[CV] END ....criterion=gini, max_depth=None, n_estimators=50; total time=   0.2s\n",
      "[CV] END ...criterion=gini, max_depth=None, n_estimators=100; total time=   0.5s\n",
      "[CV] END ...criterion=gini, max_depth=None, n_estimators=100; total time=   0.5s\n",
      "[CV] END ...criterion=gini, max_depth=None, n_estimators=100; total time=   0.5s\n",
      "[CV] END ...criterion=gini, max_depth=None, n_estimators=100; total time=   0.5s\n",
      "[CV] END ...criterion=gini, max_depth=None, n_estimators=100; total time=   0.5s\n",
      "[CV] END .criterion=entropy, max_depth=None, n_estimators=20; total time=   0.1s\n",
      "[CV] END .criterion=entropy, max_depth=None, n_estimators=20; total time=   0.1s\n",
      "[CV] END .criterion=entropy, max_depth=None, n_estimators=20; total time=   0.1s\n",
      "[CV] END .criterion=entropy, max_depth=None, n_estimators=20; total time=   0.1s\n",
      "[CV] END .criterion=entropy, max_depth=None, n_estimators=20; total time=   0.1s\n",
      "[CV] END .criterion=entropy, max_depth=None, n_estimators=50; total time=   0.3s\n",
      "[CV] END .criterion=entropy, max_depth=None, n_estimators=50; total time=   0.3s\n",
      "[CV] END .criterion=entropy, max_depth=None, n_estimators=50; total time=   0.3s\n",
      "[CV] END .criterion=entropy, max_depth=None, n_estimators=50; total time=   0.3s\n",
      "[CV] END .criterion=entropy, max_depth=None, n_estimators=50; total time=   0.3s\n",
      "[CV] END criterion=entropy, max_depth=None, n_estimators=100; total time=   0.5s\n",
      "[CV] END criterion=entropy, max_depth=None, n_estimators=100; total time=   0.5s\n",
      "[CV] END criterion=entropy, max_depth=None, n_estimators=100; total time=   0.5s\n",
      "[CV] END criterion=entropy, max_depth=None, n_estimators=100; total time=   0.5s\n",
      "[CV] END criterion=entropy, max_depth=None, n_estimators=100; total time=   0.5s\n",
      "Best parameters: {'criterion': 'entropy', 'max_depth': None, 'n_estimators': 100}\n"
     ]
    }
   ],
   "execution_count": 129
  },
  {
   "metadata": {
    "ExecuteTime": {
     "end_time": "2024-12-07T02:22:31.665847Z",
     "start_time": "2024-12-07T02:22:31.647626Z"
    }
   },
   "cell_type": "code",
   "source": [
    "x_test = preprocessor.transform(x_test)\n",
    "y_pred = model_gr.predict(x_test)\n",
    "print(classification_report(y_test, y_pred))"
   ],
   "id": "cbfa1ba785a23092",
   "outputs": [
    {
     "name": "stdout",
     "output_type": "stream",
     "text": [
      "              precision    recall  f1-score   support\n",
      "\n",
      "           0       0.96      0.95      0.95       975\n",
      "           1       0.13      0.15      0.14        47\n",
      "\n",
      "    accuracy                           0.91      1022\n",
      "   macro avg       0.54      0.55      0.55      1022\n",
      "weighted avg       0.92      0.91      0.92      1022\n",
      "\n"
     ]
    }
   ],
   "execution_count": 130
  },
  {
   "metadata": {
    "ExecuteTime": {
     "end_time": "2024-12-07T02:27:39.399180Z",
     "start_time": "2024-12-07T02:27:39.374728Z"
    }
   },
   "cell_type": "code",
   "source": [
    "model = LogisticRegression()\n",
    "model.fit(x_train_balanced, y_train_balanced)\n",
    "y_pred = model.predict(x_test)\n",
    "print(classification_report(y_test, y_pred))"
   ],
   "id": "d08e9f83ff20012a",
   "outputs": [
    {
     "name": "stdout",
     "output_type": "stream",
     "text": [
      "              precision    recall  f1-score   support\n",
      "\n",
      "           0       0.99      0.73      0.84       975\n",
      "           1       0.13      0.87      0.23        47\n",
      "\n",
      "    accuracy                           0.74      1022\n",
      "   macro avg       0.56      0.80      0.54      1022\n",
      "weighted avg       0.95      0.74      0.81      1022\n",
      "\n"
     ]
    }
   ],
   "execution_count": 135
  },
  {
   "metadata": {
    "ExecuteTime": {
     "end_time": "2024-12-07T02:37:16.025411Z",
     "start_time": "2024-12-07T02:35:18.776125Z"
    }
   },
   "cell_type": "code",
   "source": [
    "param = {\n",
    "    \"C\": [0.1, 1, 10],\n",
    "    \"kernel\": [\"linear\", \"poly\"],\n",
    "    \"gamma\": ['scale', 'auto']\n",
    "}\n",
    "svm_model = SVC(probability=True, random_state=200)\n",
    "model_gr = GridSearchCV(estimator=svm_model, param_grid=param,scoring='recall', cv=5, verbose=2)\n",
    "\n",
    "model_gr.fit(x_train_balanced, y_train_balanced)\n",
    "print(\"Best parameters: {}\".format(model_gr.best_params_))\n",
    "\n",
    "y_pred = model_gr.predict(x_test)\n",
    "print(classification_report(y_test, y_pred))"
   ],
   "id": "50c802bb60ea0a77",
   "outputs": [
    {
     "name": "stdout",
     "output_type": "stream",
     "text": [
      "Fitting 5 folds for each of 12 candidates, totalling 60 fits\n",
      "[CV] END ..................C=0.1, gamma=scale, kernel=linear; total time=   1.2s\n",
      "[CV] END ..................C=0.1, gamma=scale, kernel=linear; total time=   1.2s\n",
      "[CV] END ..................C=0.1, gamma=scale, kernel=linear; total time=   1.2s\n",
      "[CV] END ..................C=0.1, gamma=scale, kernel=linear; total time=   1.1s\n",
      "[CV] END ..................C=0.1, gamma=scale, kernel=linear; total time=   1.2s\n",
      "[CV] END ....................C=0.1, gamma=scale, kernel=poly; total time=   1.4s\n",
      "[CV] END ....................C=0.1, gamma=scale, kernel=poly; total time=   1.4s\n",
      "[CV] END ....................C=0.1, gamma=scale, kernel=poly; total time=   1.4s\n",
      "[CV] END ....................C=0.1, gamma=scale, kernel=poly; total time=   1.4s\n",
      "[CV] END ....................C=0.1, gamma=scale, kernel=poly; total time=   1.4s\n",
      "[CV] END ...................C=0.1, gamma=auto, kernel=linear; total time=   1.2s\n",
      "[CV] END ...................C=0.1, gamma=auto, kernel=linear; total time=   1.2s\n",
      "[CV] END ...................C=0.1, gamma=auto, kernel=linear; total time=   1.2s\n",
      "[CV] END ...................C=0.1, gamma=auto, kernel=linear; total time=   1.1s\n",
      "[CV] END ...................C=0.1, gamma=auto, kernel=linear; total time=   1.2s\n",
      "[CV] END .....................C=0.1, gamma=auto, kernel=poly; total time=   1.5s\n",
      "[CV] END .....................C=0.1, gamma=auto, kernel=poly; total time=   1.5s\n",
      "[CV] END .....................C=0.1, gamma=auto, kernel=poly; total time=   1.5s\n",
      "[CV] END .....................C=0.1, gamma=auto, kernel=poly; total time=   1.5s\n",
      "[CV] END .....................C=0.1, gamma=auto, kernel=poly; total time=   1.5s\n",
      "[CV] END ....................C=1, gamma=scale, kernel=linear; total time=   1.5s\n",
      "[CV] END ....................C=1, gamma=scale, kernel=linear; total time=   1.6s\n",
      "[CV] END ....................C=1, gamma=scale, kernel=linear; total time=   1.6s\n",
      "[CV] END ....................C=1, gamma=scale, kernel=linear; total time=   1.5s\n",
      "[CV] END ....................C=1, gamma=scale, kernel=linear; total time=   1.6s\n",
      "[CV] END ......................C=1, gamma=scale, kernel=poly; total time=   1.6s\n",
      "[CV] END ......................C=1, gamma=scale, kernel=poly; total time=   1.6s\n",
      "[CV] END ......................C=1, gamma=scale, kernel=poly; total time=   1.6s\n",
      "[CV] END ......................C=1, gamma=scale, kernel=poly; total time=   1.6s\n",
      "[CV] END ......................C=1, gamma=scale, kernel=poly; total time=   1.6s\n",
      "[CV] END .....................C=1, gamma=auto, kernel=linear; total time=   1.6s\n",
      "[CV] END .....................C=1, gamma=auto, kernel=linear; total time=   1.6s\n",
      "[CV] END .....................C=1, gamma=auto, kernel=linear; total time=   1.6s\n",
      "[CV] END .....................C=1, gamma=auto, kernel=linear; total time=   1.5s\n",
      "[CV] END .....................C=1, gamma=auto, kernel=linear; total time=   1.6s\n",
      "[CV] END .......................C=1, gamma=auto, kernel=poly; total time=   1.4s\n",
      "[CV] END .......................C=1, gamma=auto, kernel=poly; total time=   1.4s\n",
      "[CV] END .......................C=1, gamma=auto, kernel=poly; total time=   1.4s\n",
      "[CV] END .......................C=1, gamma=auto, kernel=poly; total time=   1.4s\n",
      "[CV] END .......................C=1, gamma=auto, kernel=poly; total time=   1.4s\n",
      "[CV] END ...................C=10, gamma=scale, kernel=linear; total time=   3.3s\n",
      "[CV] END ...................C=10, gamma=scale, kernel=linear; total time=   3.3s\n",
      "[CV] END ...................C=10, gamma=scale, kernel=linear; total time=   3.4s\n",
      "[CV] END ...................C=10, gamma=scale, kernel=linear; total time=   3.3s\n",
      "[CV] END ...................C=10, gamma=scale, kernel=linear; total time=   3.3s\n",
      "[CV] END .....................C=10, gamma=scale, kernel=poly; total time=   2.9s\n",
      "[CV] END .....................C=10, gamma=scale, kernel=poly; total time=   2.9s\n",
      "[CV] END .....................C=10, gamma=scale, kernel=poly; total time=   2.9s\n",
      "[CV] END .....................C=10, gamma=scale, kernel=poly; total time=   2.8s\n",
      "[CV] END .....................C=10, gamma=scale, kernel=poly; total time=   2.9s\n",
      "[CV] END ....................C=10, gamma=auto, kernel=linear; total time=   3.3s\n",
      "[CV] END ....................C=10, gamma=auto, kernel=linear; total time=   3.3s\n",
      "[CV] END ....................C=10, gamma=auto, kernel=linear; total time=   3.4s\n",
      "[CV] END ....................C=10, gamma=auto, kernel=linear; total time=   3.3s\n",
      "[CV] END ....................C=10, gamma=auto, kernel=linear; total time=   3.3s\n",
      "[CV] END ......................C=10, gamma=auto, kernel=poly; total time=   1.7s\n",
      "[CV] END ......................C=10, gamma=auto, kernel=poly; total time=   1.6s\n",
      "[CV] END ......................C=10, gamma=auto, kernel=poly; total time=   1.7s\n",
      "[CV] END ......................C=10, gamma=auto, kernel=poly; total time=   1.6s\n",
      "[CV] END ......................C=10, gamma=auto, kernel=poly; total time=   1.7s\n",
      "Best parameters: {'C': 10, 'gamma': 'scale', 'kernel': 'poly'}\n",
      "              precision    recall  f1-score   support\n",
      "\n",
      "           0       0.98      0.78      0.87       975\n",
      "           1       0.12      0.62      0.20        47\n",
      "\n",
      "    accuracy                           0.77      1022\n",
      "   macro avg       0.55      0.70      0.54      1022\n",
      "weighted avg       0.94      0.77      0.84      1022\n",
      "\n"
     ]
    }
   ],
   "execution_count": 143
  },
  {
   "metadata": {
    "ExecuteTime": {
     "end_time": "2024-12-07T02:42:43.980246Z",
     "start_time": "2024-12-07T02:42:43.902936Z"
    }
   },
   "cell_type": "code",
   "source": [
    "cm = confusion_matrix(y_test, y_pred)\n",
    "plt.figure(figsize=(6, 4))\n",
    "sns.heatmap(cm, annot=True, fmt='d', cmap='Blues', xticklabels=[0, 1], yticklabels=[0, 1])\n",
    "plt.xlabel(\"Predicted Label\")\n",
    "plt.ylabel(\"True Label\")\n",
    "plt.title(\"Confusion Matrix\")\n",
    "plt.show()"
   ],
   "id": "39c391d708ea6259",
   "outputs": [
    {
     "data": {
      "text/plain": [
       "<Figure size 600x400 with 2 Axes>"
      ],
      "image/png": "[encoded data removed]"
     },
     "metadata": {},
     "output_type": "display_data"
    }
   ],
   "execution_count": 146
  },
  {
   "metadata": {},
   "cell_type": "code",
   "outputs": [],
   "execution_count": null,
   "source": "",
   "id": "1106fd7c2d007ccb"
  }
 ],
 "metadata": {
  "kernelspec": {
   "display_name": "Python 3",
   "language": "python",
   "name": "python3"
  },
  "language_info": {
   "codemirror_mode": {
    "name": "ipython",
    "version": 2
   },
   "file_extension": ".py",
   "mimetype": "text/x-python",
   "name": "python",
   "nbconvert_exporter": "python",
   "pygments_lexer": "ipython2",
   "version": "2.7.6"
  }
 },
 "nbformat": 4,
 "nbformat_minor": 5
}
