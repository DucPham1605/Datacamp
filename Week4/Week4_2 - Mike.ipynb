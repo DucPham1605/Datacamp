{
 "cells": [
  {
   "cell_type": "code",
   "id": "initial_id",
   "metadata": {
    "collapsed": true,
    "ExecuteTime": {
     "end_time": "2024-11-02T03:01:03.768526Z",
     "start_time": "2024-11-02T03:01:03.764467Z"
    }
   },
   "source": [
    "import numpy as np\n",
    "import pandas as pd\n",
    "\n",
    "df = pd.read_csv('iris.csv')"
   ],
   "outputs": [],
   "execution_count": 118
  },
  {
   "metadata": {
    "ExecuteTime": {
     "end_time": "2024-11-02T03:01:03.785048Z",
     "start_time": "2024-11-02T03:01:03.780720Z"
    }
   },
   "cell_type": "code",
   "source": [
    "df = df[['Id','SepalLengthCm','SepalWidthCm','Species']]\n",
    "df.info()"
   ],
   "id": "4222e3ffab61eed0",
   "outputs": [
    {
     "name": "stdout",
     "output_type": "stream",
     "text": [
      "<class 'pandas.core.frame.DataFrame'>\n",
      "RangeIndex: 150 entries, 0 to 149\n",
      "Data columns (total 4 columns):\n",
      " #   Column         Non-Null Count  Dtype  \n",
      "---  ------         --------------  -----  \n",
      " 0   Id             150 non-null    int64  \n",
      " 1   SepalLengthCm  150 non-null    float64\n",
      " 2   SepalWidthCm   150 non-null    float64\n",
      " 3   Species        150 non-null    object \n",
      "dtypes: float64(2), int64(1), object(1)\n",
      "memory usage: 4.8+ KB\n"
     ]
    }
   ],
   "execution_count": 119
  },
  {
   "metadata": {
    "ExecuteTime": {
     "end_time": "2024-11-02T03:01:03.799935Z",
     "start_time": "2024-11-02T03:01:03.795476Z"
    }
   },
   "cell_type": "code",
   "source": [
    "#Bài 1a: Tính trung bình cộng chiều dài, chiều rộng đài hoa của từng loại (3 loại hoa)\n",
    "\n",
    "mean_df = df.groupby('Species')[['SepalLengthCm','SepalWidthCm']].mean()\n",
    "mean_df"
   ],
   "id": "8f9812a700d8f4ae",
   "outputs": [
    {
     "data": {
      "text/plain": [
       "                 SepalLengthCm  SepalWidthCm\n",
       "Species                                     \n",
       "Iris-setosa              5.006         3.418\n",
       "Iris-versicolor          5.936         2.770\n",
       "Iris-virginica           6.588         2.974"
      ],
      "text/html": [
       "<div>\n",
       "<style scoped>\n",
       "    .dataframe tbody tr th:only-of-type {\n",
       "        vertical-align: middle;\n",
       "    }\n",
       "\n",
       "    .dataframe tbody tr th {\n",
       "        vertical-align: top;\n",
       "    }\n",
       "\n",
       "    .dataframe thead th {\n",
       "        text-align: right;\n",
       "    }\n",
       "</style>\n",
       "<table border=\"1\" class=\"dataframe\">\n",
       "  <thead>\n",
       "    <tr style=\"text-align: right;\">\n",
       "      <th></th>\n",
       "      <th>SepalLengthCm</th>\n",
       "      <th>SepalWidthCm</th>\n",
       "    </tr>\n",
       "    <tr>\n",
       "      <th>Species</th>\n",
       "      <th></th>\n",
       "      <th></th>\n",
       "    </tr>\n",
       "  </thead>\n",
       "  <tbody>\n",
       "    <tr>\n",
       "      <th>Iris-setosa</th>\n",
       "      <td>5.006</td>\n",
       "      <td>3.418</td>\n",
       "    </tr>\n",
       "    <tr>\n",
       "      <th>Iris-versicolor</th>\n",
       "      <td>5.936</td>\n",
       "      <td>2.770</td>\n",
       "    </tr>\n",
       "    <tr>\n",
       "      <th>Iris-virginica</th>\n",
       "      <td>6.588</td>\n",
       "      <td>2.974</td>\n",
       "    </tr>\n",
       "  </tbody>\n",
       "</table>\n",
       "</div>"
      ]
     },
     "execution_count": 120,
     "metadata": {},
     "output_type": "execute_result"
    }
   ],
   "execution_count": 120
  },
  {
   "metadata": {
    "ExecuteTime": {
     "end_time": "2024-11-02T03:01:03.806032Z",
     "start_time": "2024-11-02T03:01:03.801027Z"
    }
   },
   "cell_type": "code",
   "source": [
    "#Bài 2a: Xác định chiều dài, chiều rộng đài hoa lớn nhất của từng loại (3 loại hoa)\n",
    "\n",
    "sepal_width_df = df.groupby('Species')['SepalWidthCm'].agg(\n",
    "    max_sepal_width = lambda x: np.max(x),\n",
    "    min_sepal_width = lambda x: np.min(x)\n",
    ")\n",
    "\n",
    "sepal_length_df = df.groupby('Species')['SepalLengthCm'].agg(\n",
    "    max_sepal_length = lambda x: np.max(x),\n",
    "    min_sepal_length = lambda x: np.min(x)\n",
    ")\n",
    "\n",
    "sepal_width_df"
   ],
   "id": "29457c5f0c5e0a6a",
   "outputs": [
    {
     "data": {
      "text/plain": [
       "                 max_sepal_width  min_sepal_width\n",
       "Species                                          \n",
       "Iris-setosa                  4.4              2.3\n",
       "Iris-versicolor              3.4              2.0\n",
       "Iris-virginica               3.8              2.2"
      ],
      "text/html": [
       "<div>\n",
       "<style scoped>\n",
       "    .dataframe tbody tr th:only-of-type {\n",
       "        vertical-align: middle;\n",
       "    }\n",
       "\n",
       "    .dataframe tbody tr th {\n",
       "        vertical-align: top;\n",
       "    }\n",
       "\n",
       "    .dataframe thead th {\n",
       "        text-align: right;\n",
       "    }\n",
       "</style>\n",
       "<table border=\"1\" class=\"dataframe\">\n",
       "  <thead>\n",
       "    <tr style=\"text-align: right;\">\n",
       "      <th></th>\n",
       "      <th>max_sepal_width</th>\n",
       "      <th>min_sepal_width</th>\n",
       "    </tr>\n",
       "    <tr>\n",
       "      <th>Species</th>\n",
       "      <th></th>\n",
       "      <th></th>\n",
       "    </tr>\n",
       "  </thead>\n",
       "  <tbody>\n",
       "    <tr>\n",
       "      <th>Iris-setosa</th>\n",
       "      <td>4.4</td>\n",
       "      <td>2.3</td>\n",
       "    </tr>\n",
       "    <tr>\n",
       "      <th>Iris-versicolor</th>\n",
       "      <td>3.4</td>\n",
       "      <td>2.0</td>\n",
       "    </tr>\n",
       "    <tr>\n",
       "      <th>Iris-virginica</th>\n",
       "      <td>3.8</td>\n",
       "      <td>2.2</td>\n",
       "    </tr>\n",
       "  </tbody>\n",
       "</table>\n",
       "</div>"
      ]
     },
     "execution_count": 121,
     "metadata": {},
     "output_type": "execute_result"
    }
   ],
   "execution_count": 121
  },
  {
   "metadata": {
    "ExecuteTime": {
     "end_time": "2024-11-02T03:01:03.809577Z",
     "start_time": "2024-11-02T03:01:03.806526Z"
    }
   },
   "cell_type": "code",
   "source": "sepal_length_df",
   "id": "48042746826753d",
   "outputs": [
    {
     "data": {
      "text/plain": [
       "                 max_sepal_length  min_sepal_length\n",
       "Species                                            \n",
       "Iris-setosa                   5.8               4.3\n",
       "Iris-versicolor               7.0               4.9\n",
       "Iris-virginica                7.9               4.9"
      ],
      "text/html": [
       "<div>\n",
       "<style scoped>\n",
       "    .dataframe tbody tr th:only-of-type {\n",
       "        vertical-align: middle;\n",
       "    }\n",
       "\n",
       "    .dataframe tbody tr th {\n",
       "        vertical-align: top;\n",
       "    }\n",
       "\n",
       "    .dataframe thead th {\n",
       "        text-align: right;\n",
       "    }\n",
       "</style>\n",
       "<table border=\"1\" class=\"dataframe\">\n",
       "  <thead>\n",
       "    <tr style=\"text-align: right;\">\n",
       "      <th></th>\n",
       "      <th>max_sepal_length</th>\n",
       "      <th>min_sepal_length</th>\n",
       "    </tr>\n",
       "    <tr>\n",
       "      <th>Species</th>\n",
       "      <th></th>\n",
       "      <th></th>\n",
       "    </tr>\n",
       "  </thead>\n",
       "  <tbody>\n",
       "    <tr>\n",
       "      <th>Iris-setosa</th>\n",
       "      <td>5.8</td>\n",
       "      <td>4.3</td>\n",
       "    </tr>\n",
       "    <tr>\n",
       "      <th>Iris-versicolor</th>\n",
       "      <td>7.0</td>\n",
       "      <td>4.9</td>\n",
       "    </tr>\n",
       "    <tr>\n",
       "      <th>Iris-virginica</th>\n",
       "      <td>7.9</td>\n",
       "      <td>4.9</td>\n",
       "    </tr>\n",
       "  </tbody>\n",
       "</table>\n",
       "</div>"
      ]
     },
     "execution_count": 122,
     "metadata": {},
     "output_type": "execute_result"
    }
   ],
   "execution_count": 122
  },
  {
   "metadata": {},
   "cell_type": "markdown",
   "source": [
    "Bài 3: Nhập input đầu vào là 2 thông số, chiều dài & chiều rộng của 1 bông hoa bất kỳ (theo đơn vị mm). Xác định xem bông hoa đấy thuộc loại hoa nào (Iris setosa, Iris virginica hay Iris versicolor). Loại của bông hoa được xác định là class của\n",
    "- a) Điểm có tọa độ gần nó nhất\n",
    "- b) Trung bình cộng nhỏ nhất đến tất cả các điểm của từng loại"
   ],
   "id": "bb750bde7f2cfcb0"
  },
  {
   "metadata": {},
   "cell_type": "markdown",
   "source": "a) Xác định dựa theo điểm có toạ độ gần nó nhất dựa theo công thức Euclidean distance:",
   "id": "58e2e801ed5f6153"
  },
  {
   "metadata": {
    "ExecuteTime": {
     "end_time": "2024-11-02T03:01:03.815647Z",
     "start_time": "2024-11-02T03:01:03.810824Z"
    }
   },
   "cell_type": "code",
   "source": [
    "df['SepalLengthWidth'] = df.apply(lambda x: [x['SepalLengthCm'],x['SepalWidthCm']],axis=1)\n",
    "df.head(5)"
   ],
   "id": "fadb877a11aa2cf7",
   "outputs": [
    {
     "data": {
      "text/plain": [
       "   Id  SepalLengthCm  SepalWidthCm      Species SepalLengthWidth\n",
       "0   1            5.1           3.5  Iris-setosa       [5.1, 3.5]\n",
       "1   2            4.9           3.0  Iris-setosa       [4.9, 3.0]\n",
       "2   3            4.7           3.2  Iris-setosa       [4.7, 3.2]\n",
       "3   4            4.6           3.1  Iris-setosa       [4.6, 3.1]\n",
       "4   5            5.0           3.6  Iris-setosa       [5.0, 3.6]"
      ],
      "text/html": [
       "<div>\n",
       "<style scoped>\n",
       "    .dataframe tbody tr th:only-of-type {\n",
       "        vertical-align: middle;\n",
       "    }\n",
       "\n",
       "    .dataframe tbody tr th {\n",
       "        vertical-align: top;\n",
       "    }\n",
       "\n",
       "    .dataframe thead th {\n",
       "        text-align: right;\n",
       "    }\n",
       "</style>\n",
       "<table border=\"1\" class=\"dataframe\">\n",
       "  <thead>\n",
       "    <tr style=\"text-align: right;\">\n",
       "      <th></th>\n",
       "      <th>Id</th>\n",
       "      <th>SepalLengthCm</th>\n",
       "      <th>SepalWidthCm</th>\n",
       "      <th>Species</th>\n",
       "      <th>SepalLengthWidth</th>\n",
       "    </tr>\n",
       "  </thead>\n",
       "  <tbody>\n",
       "    <tr>\n",
       "      <th>0</th>\n",
       "      <td>1</td>\n",
       "      <td>5.1</td>\n",
       "      <td>3.5</td>\n",
       "      <td>Iris-setosa</td>\n",
       "      <td>[5.1, 3.5]</td>\n",
       "    </tr>\n",
       "    <tr>\n",
       "      <th>1</th>\n",
       "      <td>2</td>\n",
       "      <td>4.9</td>\n",
       "      <td>3.0</td>\n",
       "      <td>Iris-setosa</td>\n",
       "      <td>[4.9, 3.0]</td>\n",
       "    </tr>\n",
       "    <tr>\n",
       "      <th>2</th>\n",
       "      <td>3</td>\n",
       "      <td>4.7</td>\n",
       "      <td>3.2</td>\n",
       "      <td>Iris-setosa</td>\n",
       "      <td>[4.7, 3.2]</td>\n",
       "    </tr>\n",
       "    <tr>\n",
       "      <th>3</th>\n",
       "      <td>4</td>\n",
       "      <td>4.6</td>\n",
       "      <td>3.1</td>\n",
       "      <td>Iris-setosa</td>\n",
       "      <td>[4.6, 3.1]</td>\n",
       "    </tr>\n",
       "    <tr>\n",
       "      <th>4</th>\n",
       "      <td>5</td>\n",
       "      <td>5.0</td>\n",
       "      <td>3.6</td>\n",
       "      <td>Iris-setosa</td>\n",
       "      <td>[5.0, 3.6]</td>\n",
       "    </tr>\n",
       "  </tbody>\n",
       "</table>\n",
       "</div>"
      ]
     },
     "execution_count": 123,
     "metadata": {},
     "output_type": "execute_result"
    }
   ],
   "execution_count": 123
  },
  {
   "metadata": {
    "ExecuteTime": {
     "end_time": "2024-11-02T03:01:03.817938Z",
     "start_time": "2024-11-02T03:01:03.816144Z"
    }
   },
   "cell_type": "code",
   "source": [
    "from scipy.spatial import distance\n",
    "\n",
    "def identify_class(length,width,df):\n",
    "    flower = [length,width]\n",
    "    df_temp = df.copy()\n",
    "    df_temp['Distance'] = df_temp.apply(lambda x: distance.euclidean(flower,x['SepalLengthWidth']),axis=1)\n",
    "    df_temp.sort_values(by='Distance',ascending=True,inplace=True)\n",
    "    \n",
    "    print(df_temp.head(5))\n",
    "    print(f\"This flower's specie is: {df_temp[\"Species\"].values[0]}\")"
   ],
   "id": "789036936bf052f1",
   "outputs": [],
   "execution_count": 124
  },
  {
   "metadata": {
    "ExecuteTime": {
     "end_time": "2024-11-02T03:01:03.823252Z",
     "start_time": "2024-11-02T03:01:03.818519Z"
    }
   },
   "cell_type": "code",
   "source": "identify_class(5,2,df)",
   "id": "a2ec170bde27e953",
   "outputs": [
    {
     "name": "stdout",
     "output_type": "stream",
     "text": [
      "      Id  SepalLengthCm  SepalWidthCm          Species SepalLengthWidth  \\\n",
      "60    61            5.0           2.0  Iris-versicolor       [5.0, 2.0]   \n",
      "93    94            5.0           2.3  Iris-versicolor       [5.0, 2.3]   \n",
      "57    58            4.9           2.4  Iris-versicolor       [4.9, 2.4]   \n",
      "98    99            5.1           2.5  Iris-versicolor       [5.1, 2.5]   \n",
      "106  107            4.9           2.5   Iris-virginica       [4.9, 2.5]   \n",
      "\n",
      "     Distance  \n",
      "60   0.000000  \n",
      "93   0.300000  \n",
      "57   0.412311  \n",
      "98   0.509902  \n",
      "106  0.509902  \n",
      "This flower's specie is: Iris-versicolor\n"
     ]
    }
   ],
   "execution_count": 125
  },
  {
   "metadata": {},
   "cell_type": "markdown",
   "source": "b) Xác định theo trung bình cộng nhỏ nhất đến tất cả các điểm của từng loại",
   "id": "caffaedc4e7d6ae"
  },
  {
   "metadata": {
    "ExecuteTime": {
     "end_time": "2024-11-02T03:01:03.825744Z",
     "start_time": "2024-11-02T03:01:03.823826Z"
    }
   },
   "cell_type": "code",
   "source": [
    "def identify_class_2(length,width,df):\n",
    "    flower = [length,width]\n",
    "    df_temp = df.copy()\n",
    "    df_temp['Distance'] = df_temp.apply(lambda x: distance.euclidean(flower,x['SepalLengthWidth']),axis=1)\n",
    "    \n",
    "    mean_species = df_temp.groupby('Species')['Distance'].agg(\n",
    "        mean = lambda x: np.mean(x)\n",
    "    )\n",
    "    mean_species.reset_index(inplace=True)\n",
    "    mean_species.sort_values(by='mean',ascending=True,inplace=True)\n",
    "    print(\"This flower's species is:\", mean_species['Species'].values[0])"
   ],
   "id": "e0968febb30a5af",
   "outputs": [],
   "execution_count": 126
  },
  {
   "metadata": {
    "ExecuteTime": {
     "end_time": "2024-11-02T03:01:03.830618Z",
     "start_time": "2024-11-02T03:01:03.826346Z"
    }
   },
   "cell_type": "code",
   "source": "identify_class_2(5,2,df)",
   "id": "a39f1f6b191fd8f1",
   "outputs": [
    {
     "name": "stdout",
     "output_type": "stream",
     "text": [
      "This flower's species is: Iris-versicolor\n"
     ]
    }
   ],
   "execution_count": 127
  },
  {
   "metadata": {
    "ExecuteTime": {
     "end_time": "2024-11-02T03:01:03.834091Z",
     "start_time": "2024-11-02T03:01:03.832060Z"
    }
   },
   "cell_type": "code",
   "source": [
    "#Bài 1b: In ra chiều dài đài hoa lớn nhất của 10 bông hoa mỗi loại\n",
    "df['Species'].unique()"
   ],
   "id": "e31da81f2da5c478",
   "outputs": [
    {
     "data": {
      "text/plain": [
       "array(['Iris-setosa', 'Iris-versicolor', 'Iris-virginica'], dtype=object)"
      ]
     },
     "execution_count": 128,
     "metadata": {},
     "output_type": "execute_result"
    }
   ],
   "execution_count": 128
  },
  {
   "metadata": {
    "ExecuteTime": {
     "end_time": "2024-11-02T03:01:03.838423Z",
     "start_time": "2024-11-02T03:01:03.834568Z"
    }
   },
   "cell_type": "code",
   "source": [
    "for i in df['Species'].unique():\n",
    "    print(df[df['Species']==i]['SepalLengthCm'].nlargest(10))"
   ],
   "id": "50d539da3b11a3ce",
   "outputs": [
    {
     "name": "stdout",
     "output_type": "stream",
     "text": [
      "14    5.8\n",
      "15    5.7\n",
      "18    5.7\n",
      "33    5.5\n",
      "36    5.5\n",
      "5     5.4\n",
      "10    5.4\n",
      "16    5.4\n",
      "20    5.4\n",
      "31    5.4\n",
      "Name: SepalLengthCm, dtype: float64\n",
      "50    7.0\n",
      "52    6.9\n",
      "76    6.8\n",
      "65    6.7\n",
      "77    6.7\n",
      "86    6.7\n",
      "58    6.6\n",
      "75    6.6\n",
      "54    6.5\n",
      "51    6.4\n",
      "Name: SepalLengthCm, dtype: float64\n",
      "131    7.9\n",
      "117    7.7\n",
      "118    7.7\n",
      "122    7.7\n",
      "135    7.7\n",
      "105    7.6\n",
      "130    7.4\n",
      "107    7.3\n",
      "109    7.2\n",
      "125    7.2\n",
      "Name: SepalLengthCm, dtype: float64\n"
     ]
    }
   ],
   "execution_count": 129
  },
  {
   "metadata": {
    "ExecuteTime": {
     "end_time": "2024-11-02T03:04:32.841580Z",
     "start_time": "2024-11-02T03:04:32.834479Z"
    }
   },
   "cell_type": "code",
   "source": [
    "#Bài 2b: Thống kê trong 50 bông hoa có tổng chiều dài + chiều rộng đài hoa lớn nhất, bao nhiêu bông thuộc về từng loại\n",
    "\n",
    "df['TotalWidthLength'] = df.apply(lambda x: x['SepalLengthCm'] + x['SepalWidthCm'],axis=1)\n",
    "df.sort_values(by='TotalWidthLength',ascending=False,inplace=True)\n",
    "b2 = df[:50].groupby('Species')['TotalWidthLength'].count().sort_values(ascending=False)\n",
    "b2"
   ],
   "id": "8030eff9ffacc2bb",
   "outputs": [
    {
     "data": {
      "text/plain": [
       "Species\n",
       "Iris-virginica     30\n",
       "Iris-versicolor    13\n",
       "Iris-setosa         7\n",
       "Name: TotalWidthLength, dtype: int64"
      ]
     },
     "execution_count": 134,
     "metadata": {},
     "output_type": "execute_result"
    }
   ],
   "execution_count": 134
  },
  {
   "metadata": {},
   "cell_type": "markdown",
   "source": [
    "Bài 3b: Nhập input đầu vào là 2 thông số, chiều dài & chiều rộng của 1 bông hoa bất kỳ (theo đơn vị mm). Xác định xem bông hoa đấy thuộc loại hoa nào (Iris setosa, Iris virginica hay Iris versicolor). Loại của bông hoa được xác định là class của\n",
    "- a) Điểm có tọa độ gần nó nhất. Nếu có 2 điểm thuộc 2 loại hoa khác nhau cùng nằm gần nhất với input, thì xác định sang điểm kế tiếp\n",
    "- b) 7 điểm gần nó nhất (Vote đa số). Nếu không xác định được class chiếm đa số, in ra bông hoa này ko thuộc class nào\n",
    "- c) Lấy tọa độ của input là tâm của 1 đường tròn, có bán kính 2 mm. Vote đa số dựa trên tất cả các điểm nằm trên và trong đường tròn. Nếu có 2 class có số điểm bằng nhau và đồng cao nhất, in ra thông báo bông hoa này ko thuộc class nào."
   ],
   "id": "53728baa41a9f8e0"
  },
  {
   "metadata": {
    "ExecuteTime": {
     "end_time": "2024-11-02T03:44:16.847366Z",
     "start_time": "2024-11-02T03:44:16.843472Z"
    }
   },
   "cell_type": "code",
   "source": [
    "#3b - a: Sử dụng và chỉnh code từ task 3a\n",
    "\n",
    "def identify_class(length,width,df):\n",
    "    \n",
    "    identified_class = ''\n",
    "    \n",
    "    flower = [length,width]\n",
    "    df_temp = df.copy()\n",
    "    df_temp['Distance'] = df_temp.apply(lambda x: distance.euclidean(flower,x['SepalLengthWidth']),axis=1)\n",
    "    df_temp.sort_values(by='Distance',ascending=True,inplace=True)\n",
    "        \n",
    "    if (df_temp['Distance'].values[0] == df_temp['Distance'].values[1]) and (df_temp['Species'].values[0] != df_temp['Species'].values[1]):\n",
    "        identified_class = df_temp['Species'].values[2]\n",
    "    else:\n",
    "        identified_class = df_temp['Species'].values[0]\n",
    "        \n",
    "    \n",
    "    print(df_temp.head(7))\n",
    "    print(f\"This flower's specie is: {identified_class}\")"
   ],
   "id": "589538e9698a2a46",
   "outputs": [],
   "execution_count": 179
  },
  {
   "metadata": {
    "ExecuteTime": {
     "end_time": "2024-11-02T03:44:17.190546Z",
     "start_time": "2024-11-02T03:44:17.184363Z"
    }
   },
   "cell_type": "code",
   "source": "identify_class(5.1,3.5,df)",
   "id": "511b86f54c10db52",
   "outputs": [
    {
     "name": "stdout",
     "output_type": "stream",
     "text": [
      "    Id  SepalLengthCm  SepalWidthCm      Species SepalLengthWidth  \\\n",
      "0    1            5.1           3.5  Iris-setosa       [5.1, 3.5]   \n",
      "17  18            5.1           3.5  Iris-setosa       [5.1, 3.5]   \n",
      "43  44            5.0           3.5  Iris-setosa       [5.0, 3.5]   \n",
      "40  41            5.0           3.5  Iris-setosa       [5.0, 3.5]   \n",
      "39  40            5.1           3.4  Iris-setosa       [5.1, 3.4]   \n",
      "27  28            5.2           3.5  Iris-setosa       [5.2, 3.5]   \n",
      "4    5            5.0           3.6  Iris-setosa       [5.0, 3.6]   \n",
      "\n",
      "    TotalWidthLength  Distance  \n",
      "0                8.6  0.000000  \n",
      "17               8.6  0.000000  \n",
      "43               8.5  0.100000  \n",
      "40               8.5  0.100000  \n",
      "39               8.5  0.100000  \n",
      "27               8.7  0.100000  \n",
      "4                8.6  0.141421  \n",
      "This flower's specie is: Iris-setosa\n"
     ]
    }
   ],
   "execution_count": 180
  },
  {
   "metadata": {
    "ExecuteTime": {
     "end_time": "2024-11-02T03:44:29.018479Z",
     "start_time": "2024-11-02T03:44:29.014812Z"
    }
   },
   "cell_type": "code",
   "source": [
    "#3b-b: 7 điểm gần nó nhất (Vote đa số). Nếu không xác định được class chiếm đa số, in ra bông hoa này ko thuộc class nào\n",
    "\n",
    "def identify_class_2(length,width,df):\n",
    "    identified_class = ''\n",
    "    flower = [length,width]\n",
    "    df_temp = df.copy()\n",
    "    df_temp['Distance'] = df_temp.apply(lambda x: distance.euclidean(flower,x['SepalLengthWidth']),axis=1)\n",
    "    \n",
    "    count_species = df_temp[:7].groupby('Species')['Distance'].agg(\n",
    "        count = lambda x: np.count_nonzero(x)\n",
    "    ).reset_index()\n",
    "    \n",
    "    max_count = [x for x in count_species['count'].values if x == max(count_species['count'].values)]\n",
    "    \n",
    "    if len(max_count) > 1:\n",
    "        print(\"This flower does not belong to any class\")\n",
    "    else:\n",
    "        identified_class = count_species[count_species['count']==count_species['count'].max()]\n",
    "    \n",
    "    print(identified_class)"
   ],
   "id": "fef7878604b6bdd4",
   "outputs": [],
   "execution_count": 181
  },
  {
   "metadata": {
    "ExecuteTime": {
     "end_time": "2024-11-02T03:44:29.257009Z",
     "start_time": "2024-11-02T03:44:29.249075Z"
    }
   },
   "cell_type": "code",
   "source": "identify_class_2(5.1,3.5,df)",
   "id": "e6b1c7f20960c1b4",
   "outputs": [
    {
     "name": "stdout",
     "output_type": "stream",
     "text": [
      "          Species  count\n",
      "0  Iris-virginica      7\n"
     ]
    }
   ],
   "execution_count": 182
  },
  {
   "metadata": {
    "ExecuteTime": {
     "end_time": "2024-11-02T03:50:21.216598Z",
     "start_time": "2024-11-02T03:50:21.211470Z"
    }
   },
   "cell_type": "code",
   "source": [
    "'''\n",
    "3b-c: Lấy tọa độ của input là tâm của 1 đường tròn, có bán kính 2 mm:\n",
    "   - Vote đa số dựa trên tất cả các điểm nằm trên và trong đường tròn. \n",
    "   - Nếu có 2 class có số điểm bằng nhau và đồng cao nhất, in ra thông báo bông hoa này ko thuộc class nào.\n",
    "'''\n",
    "\n",
    "# Nếu khoảng cách từ tâm đường tròn đến các điểm khác =< 2 thì các điểm nằm trên và trong đường tròn\n",
    "\n",
    "def identify_class_3(length,width,df):\n",
    "    identified_class = ''\n",
    "    input = [length,width]\n",
    "    \n",
    "    df_temp = df.copy()\n",
    "    df_temp['Distance'] = df_temp.apply(lambda x: distance.euclidean(input,x['SepalLengthWidth']),axis=1)\n",
    "    df_temp = df_temp[df_temp['Distance']<=2]\n",
    "    \n",
    "    count_species = df_temp.groupby('Species')['Distance'].agg(\n",
    "        count = lambda x: np.count_nonzero(x)\n",
    "    ).reset_index()\n",
    "    \n",
    "    print(count_species)\n",
    "    \n",
    "    max_count = [x for x in count_species['count'].values if x == max(count_species['count'].values)]\n",
    "    \n",
    "    if len(max_count) > 1:\n",
    "        print(\"This flower does not belong to any class\")\n",
    "    else:\n",
    "        identified_class = count_species[count_species['count']==count_species['count'].max()]\n",
    "        identified_class = identified_class[identified_class['count'] == max(count_species['count'].values)]['Species'].values[0]\n",
    "        print(f\"This flower belong to group {identified_class}\")   "
   ],
   "id": "86fb7368298406a1",
   "outputs": [],
   "execution_count": 193
  },
  {
   "metadata": {
    "ExecuteTime": {
     "end_time": "2024-11-02T03:50:21.442669Z",
     "start_time": "2024-11-02T03:50:21.434498Z"
    }
   },
   "cell_type": "code",
   "source": "identify_class_3(5.1,3.5,df)",
   "id": "e76bfa5e0d7e7608",
   "outputs": [
    {
     "name": "stdout",
     "output_type": "stream",
     "text": [
      "           Species  count\n",
      "0      Iris-setosa     48\n",
      "1  Iris-versicolor     50\n",
      "2   Iris-virginica     38\n",
      "This flower belong to group Iris-versicolor\n"
     ]
    }
   ],
   "execution_count": 194
  }
 ],
 "metadata": {
  "kernelspec": {
   "display_name": "Python 3",
   "language": "python",
   "name": "python3"
  },
  "language_info": {
   "codemirror_mode": {
    "name": "ipython",
    "version": 2
   },
   "file_extension": ".py",
   "mimetype": "text/x-python",
   "name": "python",
   "nbconvert_exporter": "python",
   "pygments_lexer": "ipython2",
   "version": "2.7.6"
  }
 },
 "nbformat": 4,
 "nbformat_minor": 5
}
