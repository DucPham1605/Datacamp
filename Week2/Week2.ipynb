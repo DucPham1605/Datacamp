{
 "cells": [
  {
   "cell_type": "markdown",
   "id": "57dd8d9e",
   "metadata": {},
   "source": [
    "# Exercise 1"
   ]
  },
  {
   "cell_type": "code",
   "id": "7b3bc33d",
   "metadata": {
    "ExecuteTime": {
     "end_time": "2024-10-18T22:47:14.681983Z",
     "start_time": "2024-10-18T22:47:13.907682Z"
    }
   },
   "source": [
    "import numpy as np\n",
    "import pandas as pd"
   ],
   "outputs": [],
   "execution_count": 9
  },
  {
   "metadata": {
    "ExecuteTime": {
     "end_time": "2024-10-18T22:45:15.574585Z",
     "start_time": "2024-10-18T22:45:15.566340Z"
    }
   },
   "cell_type": "code",
   "source": [
    "# Ex1: Write a NumPy program to reverse an array (first element becomes last).\n",
    "# Input: [12 13 14 15 16 17 18 19 20 21 22 23 24 25 26 27 28 29 30 31 32 33 34 35 36 37]\n",
    "\n",
    "def reverse_array(arr):\n",
    "     return np.flip(arr,0) \n",
    "\n",
    "reverse_array([12,13,14,15,16,17,18,19,20,21,22,23,24,25,26,27,28,29,30,31,32,33,34,35,36,37])"
   ],
   "id": "e0db3e056087c3f9",
   "outputs": [
    {
     "data": {
      "text/plain": [
       "array([37, 36, 35, 34, 33, 32, 31, 30, 29, 28, 27, 26, 25, 24, 23, 22, 21,\n",
       "       20, 19, 18, 17, 16, 15, 14, 13, 12])"
      ]
     },
     "execution_count": 3,
     "metadata": {},
     "output_type": "execute_result"
    }
   ],
   "execution_count": 3
  },
  {
   "cell_type": "markdown",
   "id": "81480123",
   "metadata": {},
   "source": [
    "# Exercise 2 "
   ]
  },
  {
   "cell_type": "code",
   "id": "539714a5",
   "metadata": {
    "ExecuteTime": {
     "end_time": "2024-10-18T22:45:15.581460Z",
     "start_time": "2024-10-18T22:45:15.576027Z"
    }
   },
   "source": [
    "# Ex2: Write a NumPy program to test whether each element of a 1-D array is also present in a second array\n",
    "# Input Array1: [0,10,20,40,60]\n",
    "#       Array2: [10,30,40]\n",
    "\n",
    "arr1 = [0,10,20,40,60]\n",
    "arr2 = [10,30,40]\n",
    "\n",
    "def check_elements(arr1,arr2):\n",
    "    return np.isin(arr1,arr2)\n",
    "\n",
    "check_elements(arr1,arr2)"
   ],
   "outputs": [
    {
     "data": {
      "text/plain": [
       "array([False,  True, False,  True, False])"
      ]
     },
     "execution_count": 4,
     "metadata": {},
     "output_type": "execute_result"
    }
   ],
   "execution_count": 4
  },
  {
   "cell_type": "markdown",
   "id": "0376138e",
   "metadata": {},
   "source": [
    "# Exercise 3"
   ]
  },
  {
   "metadata": {},
   "cell_type": "markdown",
   "source": "",
   "id": "dde9744423785e3b"
  },
  {
   "cell_type": "code",
   "id": "2080da3c",
   "metadata": {
    "ExecuteTime": {
     "end_time": "2024-10-18T22:45:15.590044Z",
     "start_time": "2024-10-18T22:45:15.584420Z"
    }
   },
   "source": [
    "# Ex3: Write a NumPy program to find the indices of the maximum and minimum values along the given axis of an array\n",
    "# Input Array [1,6,4,8,9,-4,-2,11]\n",
    "\n",
    "arr = [1,6,4,8,9,-4,-2,11]\n",
    "\n",
    "def find_indices(arr):\n",
    "    max_indice = np.argmax(arr)\n",
    "    min_indice = np.argmin(arr)\n",
    "    return max_indice, min_indice\n",
    "\n",
    "find_indices(arr)"
   ],
   "outputs": [
    {
     "data": {
      "text/plain": [
       "(7, 5)"
      ]
     },
     "execution_count": 5,
     "metadata": {},
     "output_type": "execute_result"
    }
   ],
   "execution_count": 5
  },
  {
   "cell_type": "markdown",
   "id": "b7b28d2b",
   "metadata": {},
   "source": [
    "# Exercise 4 "
   ]
  },
  {
   "cell_type": "code",
   "id": "edc8dca6",
   "metadata": {
    "ExecuteTime": {
     "end_time": "2024-10-18T23:39:05.676194Z",
     "start_time": "2024-10-18T23:39:05.629389Z"
    }
   },
   "source": [
    "# Ex4: Read the entire file story.txt and write a program to print out top 100 words occur most\n",
    "# frequently and their corresponding appearance. You could ignore all\n",
    "# punction characters such as comma, dot, semicolon, ...\n",
    "# Sample output:\n",
    "# house: 453\n",
    "# dog: 440\n",
    "# people: 312\n",
    "# ...\n",
    "import string\n",
    "\n",
    "story = open('story.txt','r',encoding='utf-8-sig')\n",
    "\n",
    "words_dict = {}\n",
    "\n",
    "def count_words(words):\n",
    "    for word in words:\n",
    "        word = word.translate(str.maketrans('', '', string.punctuation))\n",
    "        if word:\n",
    "            if word in words_dict:\n",
    "                words_dict[word] += 1\n",
    "            else:\n",
    "                words_dict[word] = 1\n",
    "\n",
    "for line in story:\n",
    "    line = line.lower()\n",
    "    line = line.strip()\n",
    "    words = line.split(\" \")\n",
    "    \n",
    "    words = [word for word in words if word != '']\n",
    "        \n",
    "    if words:\n",
    "        count_words(words)\n",
    "        \n",
    "top_100 = sorted(words_dict.items(), key=lambda item: item[1], reverse=True)[:101]\n",
    "\n",
    "for key, value in top_100:\n",
    "    print(f'{key}: {value}')"
   ],
   "outputs": [
    {
     "name": "stdout",
     "output_type": "stream",
     "text": [
      "the: 1671\n",
      "and: 872\n",
      "to: 734\n",
      "a: 649\n",
      "it: 541\n",
      "she: 540\n",
      "of: 519\n",
      "said: 467\n",
      "i: 401\n",
      "alice: 391\n",
      "in: 382\n",
      "you: 365\n",
      "was: 359\n",
      "that: 282\n",
      "as: 261\n",
      "her: 253\n",
      "at: 211\n",
      "with: 198\n",
      "on: 191\n",
      "all: 183\n",
      "had: 179\n",
      "but: 168\n",
      "so: 154\n",
      "for: 152\n",
      "be: 150\n",
      "not: 146\n",
      "very: 146\n",
      "this: 142\n",
      "what: 140\n",
      "little: 133\n",
      "they: 130\n",
      "he: 117\n",
      "out: 115\n",
      "its: 114\n",
      "one: 106\n",
      "down: 106\n",
      "is: 105\n",
      "up: 101\n",
      "his: 98\n",
      "about: 94\n",
      "if: 93\n",
      "then: 92\n",
      "no: 89\n",
      "like: 87\n",
      "were: 87\n",
      "them: 86\n",
      "would: 85\n",
      "know: 85\n",
      "again: 84\n",
      "herself: 83\n",
      "or: 82\n",
      "off: 82\n",
      "went: 81\n",
      "do: 80\n",
      "when: 79\n",
      "have: 79\n",
      "could: 78\n",
      "there: 77\n",
      "thought: 73\n",
      "into: 72\n",
      "queen: 72\n",
      "time: 70\n",
      "by: 68\n",
      "me: 68\n",
      "who: 66\n",
      "see: 66\n",
      "how: 64\n",
      "your: 63\n",
      "did: 61\n",
      "king: 61\n",
      "an: 60\n",
      "well: 60\n",
      "dont: 60\n",
      "now: 59\n",
      "mock: 59\n",
      "are: 58\n",
      "turtle: 58\n",
      "began: 58\n",
      "my: 58\n",
      "im: 58\n",
      "quite: 55\n",
      "hatter: 55\n",
      "gryphon: 55\n",
      "some: 54\n",
      "way: 53\n",
      "head: 52\n",
      "think: 52\n",
      "their: 52\n",
      "here: 51\n",
      "much: 51\n",
      "just: 51\n",
      "go: 51\n",
      "which: 50\n",
      "more: 49\n",
      "say: 49\n",
      "first: 49\n",
      "only: 49\n",
      "thing: 49\n",
      "voice: 47\n",
      "looked: 47\n",
      "never: 47\n"
     ]
    }
   ],
   "execution_count": 61
  },
  {
   "metadata": {
    "ExecuteTime": {
     "end_time": "2024-10-18T23:22:19.131693Z",
     "start_time": "2024-10-18T23:22:19.130195Z"
    }
   },
   "cell_type": "code",
   "source": "",
   "id": "92fd74492682c5a1",
   "outputs": [],
   "execution_count": 49
  },
  {
   "metadata": {},
   "cell_type": "code",
   "outputs": [],
   "execution_count": null,
   "source": "",
   "id": "6cfffc13ae74450c"
  }
 ],
 "metadata": {
  "language_info": {
   "name": "python"
  },
  "kernelspec": {
   "name": "python3",
   "language": "python",
   "display_name": "Python 3 (ipykernel)"
  }
 },
 "nbformat": 4,
 "nbformat_minor": 5
}
