{
 "cells": [
  {
   "cell_type": "code",
   "id": "initial_id",
   "metadata": {
    "collapsed": true,
    "ExecuteTime": {
     "end_time": "2024-11-16T04:03:05.427853Z",
     "start_time": "2024-11-16T04:03:05.055099Z"
    }
   },
   "source": [
    "import pandas as pd\n",
    "import numpy as np"
   ],
   "outputs": [],
   "execution_count": 1
  },
  {
   "metadata": {
    "ExecuteTime": {
     "end_time": "2024-11-16T04:03:39.621776Z",
     "start_time": "2024-11-16T04:03:39.613671Z"
    }
   },
   "cell_type": "code",
   "source": [
    "df = pd.read_csv('ds_salaries.csv')\n",
    "df.info()"
   ],
   "id": "e8f8d68819bf0291",
   "outputs": [
    {
     "name": "stdout",
     "output_type": "stream",
     "text": [
      "<class 'pandas.core.frame.DataFrame'>\n",
      "RangeIndex: 607 entries, 0 to 606\n",
      "Data columns (total 12 columns):\n",
      " #   Column              Non-Null Count  Dtype \n",
      "---  ------              --------------  ----- \n",
      " 0   Unnamed: 0          607 non-null    int64 \n",
      " 1   work_year           607 non-null    int64 \n",
      " 2   experience_level    607 non-null    object\n",
      " 3   employment_type     607 non-null    object\n",
      " 4   job_title           607 non-null    object\n",
      " 5   salary              607 non-null    int64 \n",
      " 6   salary_currency     607 non-null    object\n",
      " 7   salary_in_usd       607 non-null    int64 \n",
      " 8   employee_residence  607 non-null    object\n",
      " 9   remote_ratio        607 non-null    int64 \n",
      " 10  company_location    607 non-null    object\n",
      " 11  company_size        607 non-null    object\n",
      "dtypes: int64(5), object(7)\n",
      "memory usage: 57.0+ KB\n"
     ]
    }
   ],
   "execution_count": 3
  },
  {
   "metadata": {
    "ExecuteTime": {
     "end_time": "2024-11-16T04:04:23.099049Z",
     "start_time": "2024-11-16T04:04:23.095301Z"
    }
   },
   "cell_type": "code",
   "source": "df.drop(['Unnamed: 0'], axis=1, inplace=True)",
   "id": "6b00845d28caf524",
   "outputs": [],
   "execution_count": 5
  },
  {
   "metadata": {
    "ExecuteTime": {
     "end_time": "2024-11-16T04:04:30.406547Z",
     "start_time": "2024-11-16T04:04:30.400756Z"
    }
   },
   "cell_type": "code",
   "source": "df.info()",
   "id": "31932246bba8a15c",
   "outputs": [
    {
     "name": "stdout",
     "output_type": "stream",
     "text": [
      "<class 'pandas.core.frame.DataFrame'>\n",
      "RangeIndex: 607 entries, 0 to 606\n",
      "Data columns (total 11 columns):\n",
      " #   Column              Non-Null Count  Dtype \n",
      "---  ------              --------------  ----- \n",
      " 0   work_year           607 non-null    int64 \n",
      " 1   experience_level    607 non-null    object\n",
      " 2   employment_type     607 non-null    object\n",
      " 3   job_title           607 non-null    object\n",
      " 4   salary              607 non-null    int64 \n",
      " 5   salary_currency     607 non-null    object\n",
      " 6   salary_in_usd       607 non-null    int64 \n",
      " 7   employee_residence  607 non-null    object\n",
      " 8   remote_ratio        607 non-null    int64 \n",
      " 9   company_location    607 non-null    object\n",
      " 10  company_size        607 non-null    object\n",
      "dtypes: int64(4), object(7)\n",
      "memory usage: 52.3+ KB\n"
     ]
    }
   ],
   "execution_count": 6
  },
  {
   "metadata": {},
   "cell_type": "markdown",
   "source": [
    "Task 1:Job title nào có mức lương trung bình theo USD cao nhất\n",
    "Hiện tại, vị trí về Data Analytics Lead đang có mức lương cao "
   ],
   "id": "6422fbfcaf2ad043"
  },
  {
   "metadata": {
    "ExecuteTime": {
     "end_time": "2024-11-16T04:06:36.143047Z",
     "start_time": "2024-11-16T04:06:36.135951Z"
    }
   },
   "cell_type": "code",
   "source": [
    "job_salary_usd = df.groupby('job_title')['salary_in_usd'].mean()\n",
    "job_salary_usd.sort_values(ascending=False, inplace=True)\n",
    "job_salary_usd"
   ],
   "id": "61c28f8394b5032a",
   "outputs": [
    {
     "data": {
      "text/plain": [
       "job_title\n",
       "Data Analytics Lead                         405000.000000\n",
       "Principal Data Engineer                     328333.333333\n",
       "Financial Data Analyst                      275000.000000\n",
       "Principal Data Scientist                    215242.428571\n",
       "Director of Data Science                    195074.000000\n",
       "Data Architect                              177873.909091\n",
       "Applied Data Scientist                      175655.000000\n",
       "Analytics Engineer                          175000.000000\n",
       "Data Specialist                             165000.000000\n",
       "Head of Data                                160162.600000\n",
       "Machine Learning Scientist                  158412.500000\n",
       "Data Science Manager                        158328.500000\n",
       "Director of Data Engineering                156738.000000\n",
       "Head of Data Science                        146718.750000\n",
       "Applied Machine Learning Scientist          142068.750000\n",
       "Lead Data Engineer                          139724.500000\n",
       "Data Analytics Manager                      127134.285714\n",
       "Cloud Data Engineer                         124647.000000\n",
       "Data Engineering Manager                    123227.200000\n",
       "Principal Data Analyst                      122500.000000\n",
       "ML Engineer                                 117504.000000\n",
       "Machine Learning Manager                    117104.000000\n",
       "Lead Data Scientist                         115190.000000\n",
       "Data Engineer                               112725.000000\n",
       "Research Scientist                          109019.500000\n",
       "Data Scientist                              108187.832168\n",
       "Computer Vision Software Engineer           105248.666667\n",
       "Staff Data Scientist                        105000.000000\n",
       "Machine Learning Engineer                   104880.146341\n",
       "Machine Learning Infrastructure Engineer    101145.000000\n",
       "Big Data Architect                           99703.000000\n",
       "Data Analyst                                 92893.061856\n",
       "Lead Data Analyst                            92203.000000\n",
       "Marketing Data Analyst                       88654.000000\n",
       "Lead Machine Learning Engineer               87932.000000\n",
       "Machine Learning Developer                   85860.666667\n",
       "Head of Machine Learning                     79039.000000\n",
       "Business Data Analyst                        76691.200000\n",
       "Data Science Engineer                        75803.333333\n",
       "BI Data Analyst                              74755.166667\n",
       "Data Science Consultant                      69420.714286\n",
       "AI Scientist                                 66135.571429\n",
       "Data Analytics Engineer                      64799.250000\n",
       "Finance Data Analyst                         61896.000000\n",
       "ETL Developer                                54957.000000\n",
       "Big Data Engineer                            51974.000000\n",
       "Computer Vision Engineer                     44419.333333\n",
       "NLP Engineer                                 37236.000000\n",
       "Product Data Analyst                         13036.000000\n",
       "3D Computer Vision Researcher                 5409.000000\n",
       "Name: salary_in_usd, dtype: float64"
      ]
     },
     "execution_count": 9,
     "metadata": {},
     "output_type": "execute_result"
    }
   ],
   "execution_count": 9
  },
  {
   "metadata": {},
   "cell_type": "markdown",
   "source": [
    "Task 2:Data Scientist mang quốc tịch nào có mức lương trung bình cao nhất\n",
    "Nếu tạm coi employee_residence là quốc tịch thì DS mang quốc tịch Mỹ có mức lương trung bình cao nhất"
   ],
   "id": "607b2dd2f74e33d2"
  },
  {
   "metadata": {
    "ExecuteTime": {
     "end_time": "2024-11-16T04:11:08.830502Z",
     "start_time": "2024-11-16T04:11:08.823028Z"
    }
   },
   "cell_type": "code",
   "source": [
    "highest_paid_ds = df[df['job_title'] == 'Data Scientist'].groupby('employee_residence')['salary_in_usd'].mean()\n",
    "highest_paid_ds.sort_values(ascending=False, inplace=True)\n",
    "highest_paid_ds"
   ],
   "id": "844109463c99dbc4",
   "outputs": [
    {
     "data": {
      "text/plain": [
       "employee_residence\n",
       "US    149408.333333\n",
       "CH    122346.000000\n",
       "SG    119059.000000\n",
       "DZ    100000.000000\n",
       "AT     91237.000000\n",
       "GB     88177.363636\n",
       "AU     86703.000000\n",
       "CA     81489.166667\n",
       "DE     74773.714286\n",
       "GR     68428.000000\n",
       "BR     56450.500000\n",
       "FR     51665.625000\n",
       "NG     50000.000000\n",
       "RU     48000.000000\n",
       "PH     45760.000000\n",
       "ES     41136.666667\n",
       "CL     40038.000000\n",
       "JP     40000.000000\n",
       "HU     35735.000000\n",
       "PL     35590.000000\n",
       "RS     25532.000000\n",
       "IN     23838.333333\n",
       "IT     21669.000000\n",
       "TR     20171.000000\n",
       "UA     13400.000000\n",
       "VN      4000.000000\n",
       "MX      2859.000000\n",
       "Name: salary_in_usd, dtype: float64"
      ]
     },
     "execution_count": 12,
     "metadata": {},
     "output_type": "execute_result"
    }
   ],
   "execution_count": 12
  },
  {
   "metadata": {},
   "cell_type": "markdown",
   "source": "Task 3: Hiện không xác định được feature cần thiết để tính toán phần này nên em bỏ qua task 3",
   "id": "77572a742cb49a7b"
  },
  {
   "metadata": {},
   "cell_type": "markdown",
   "source": "Task 4: Mức lương trung bình của Data Engineer (SE level) ở các công ty nhỏ và vừa ở USA",
   "id": "b299e7bdf8f24617"
  },
  {
   "metadata": {
    "ExecuteTime": {
     "end_time": "2024-11-16T04:22:01.425237Z",
     "start_time": "2024-11-16T04:22:01.420679Z"
    }
   },
   "cell_type": "code",
   "source": "df['job_title'].unique()",
   "id": "c3f9ab4fc77395c4",
   "outputs": [
    {
     "data": {
      "text/plain": [
       "array(['Data Scientist', 'Machine Learning Scientist',\n",
       "       'Big Data Engineer', 'Product Data Analyst',\n",
       "       'Machine Learning Engineer', 'Data Analyst', 'Lead Data Scientist',\n",
       "       'Business Data Analyst', 'Lead Data Engineer', 'Lead Data Analyst',\n",
       "       'Data Engineer', 'Data Science Consultant', 'BI Data Analyst',\n",
       "       'Director of Data Science', 'Research Scientist',\n",
       "       'Machine Learning Manager', 'Data Engineering Manager',\n",
       "       'Machine Learning Infrastructure Engineer', 'ML Engineer',\n",
       "       'AI Scientist', 'Computer Vision Engineer',\n",
       "       'Principal Data Scientist', 'Data Science Manager', 'Head of Data',\n",
       "       '3D Computer Vision Researcher', 'Data Analytics Engineer',\n",
       "       'Applied Data Scientist', 'Marketing Data Analyst',\n",
       "       'Cloud Data Engineer', 'Financial Data Analyst',\n",
       "       'Computer Vision Software Engineer',\n",
       "       'Director of Data Engineering', 'Data Science Engineer',\n",
       "       'Principal Data Engineer', 'Machine Learning Developer',\n",
       "       'Applied Machine Learning Scientist', 'Data Analytics Manager',\n",
       "       'Head of Data Science', 'Data Specialist', 'Data Architect',\n",
       "       'Finance Data Analyst', 'Principal Data Analyst',\n",
       "       'Big Data Architect', 'Staff Data Scientist', 'Analytics Engineer',\n",
       "       'ETL Developer', 'Head of Machine Learning', 'NLP Engineer',\n",
       "       'Lead Machine Learning Engineer', 'Data Analytics Lead'],\n",
       "      dtype=object)"
      ]
     },
     "execution_count": 15,
     "metadata": {},
     "output_type": "execute_result"
    }
   ],
   "execution_count": 15
  },
  {
   "metadata": {
    "ExecuteTime": {
     "end_time": "2024-11-16T04:32:27.388333Z",
     "start_time": "2024-11-16T04:32:27.382606Z"
    }
   },
   "cell_type": "code",
   "source": [
    "filtered_df =  df[df['job_title'].str.contains('Data Engineer', case = False, na = False)]\n",
    "filtered_df = filtered_df[(filtered_df['experience_level'] == 'SE') & \n",
    "            (filtered_df['company_location'] == \"US\") & (filtered_df['company_size'] != \"L\")]\n",
    "\n",
    "filtered_df['salary_in_usd'].mean()"
   ],
   "id": "be7eff06cdff604a",
   "outputs": [
    {
     "data": {
      "text/plain": [
       "142639.38"
      ]
     },
     "execution_count": 26,
     "metadata": {},
     "output_type": "execute_result"
    }
   ],
   "execution_count": 26
  },
  {
   "metadata": {},
   "cell_type": "markdown",
   "source": [
    "Task 5: So sánh mức lương của Data Scientist ở USA ở các mức trình độ (experience_level) khác nhau\n",
    "\n",
    "Experience SE có mức lương cao nhất, ngược lại level EN có mức lương thấp nhất"
   ],
   "id": "1bed542171b29e4d"
  },
  {
   "metadata": {
    "ExecuteTime": {
     "end_time": "2024-11-16T04:35:00.416911Z",
     "start_time": "2024-11-16T04:35:00.410687Z"
    }
   },
   "cell_type": "code",
   "source": [
    "salary_ds_usa = df[(df['employee_residence'] == 'US') & (df['job_title'] == 'Data Scientist')]\n",
    "salary_ds_usa = salary_ds_usa.groupby('experience_level')['salary_in_usd'].mean()\n",
    "salary_ds_usa.sort_values(ascending=False, inplace=True)\n",
    "salary_ds_usa"
   ],
   "id": "3ee0ad9759e59240",
   "outputs": [
    {
     "data": {
      "text/plain": [
       "experience_level\n",
       "SE    166796.078431\n",
       "MI    124488.095238\n",
       "EN     88833.333333\n",
       "Name: salary_in_usd, dtype: float64"
      ]
     },
     "execution_count": 28,
     "metadata": {},
     "output_type": "execute_result"
    }
   ],
   "execution_count": 28
  },
  {
   "metadata": {},
   "cell_type": "markdown",
   "source": "Task 6:Nhân sự là người nước ngoài chiếm tỉ lệ bao nhiêu phần trăm ở các công ty lớn ở USA",
   "id": "5a62c22df7f0fcde"
  },
  {
   "metadata": {
    "ExecuteTime": {
     "end_time": "2024-11-16T04:45:56.969355Z",
     "start_time": "2024-11-16T04:45:56.963705Z"
    }
   },
   "cell_type": "code",
   "source": [
    "foreign_employees = df[(df['company_size'] == \"L\") & \n",
    "                       (df['employee_residence'] != 'US') & \n",
    "                       (df['company_location'] == 'US')]['company_location'].count()\n",
    "native_employees = df[(df['company_size'] == \"L\") & \n",
    "                       (df['employee_residence'] == 'US') & \n",
    "                       (df['company_location'] == 'US')]['company_location'].count()\n",
    "result = (foreign_employees /(foreign_employees + native_employees)) * 100\n",
    "\n",
    "print(round(result,2))"
   ],
   "id": "813b3c5d3419fa83",
   "outputs": [
    {
     "name": "stdout",
     "output_type": "stream",
     "text": [
      "7.55\n"
     ]
    }
   ],
   "execution_count": 37
  },
  {
   "metadata": {},
   "cell_type": "markdown",
   "source": "Task 7:Tìm ra 3 job title có mức lương trung bình cao nhất ở level MI dành cho nhân sự trong nước",
   "id": "b165f7ca3716ba44"
  },
  {
   "metadata": {},
   "cell_type": "markdown",
   "source": "",
   "id": "98baeb4eddc6dc8"
  }
 ],
 "metadata": {
  "kernelspec": {
   "display_name": "Python 3",
   "language": "python",
   "name": "python3"
  },
  "language_info": {
   "codemirror_mode": {
    "name": "ipython",
    "version": 2
   },
   "file_extension": ".py",
   "mimetype": "text/x-python",
   "name": "python",
   "nbconvert_exporter": "python",
   "pygments_lexer": "ipython2",
   "version": "2.7.6"
  }
 },
 "nbformat": 4,
 "nbformat_minor": 5
}
